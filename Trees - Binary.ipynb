{
  "nbformat": 4,
  "nbformat_minor": 0,
  "metadata": {
    "kernelspec": {
      "display_name": "Python 3",
      "language": "python",
      "name": "python3"
    },
    "language_info": {
      "codemirror_mode": {
        "name": "ipython",
        "version": 3
      },
      "file_extension": ".py",
      "mimetype": "text/x-python",
      "name": "python",
      "nbconvert_exporter": "python",
      "pygments_lexer": "ipython3",
      "version": "3.7.2"
    },
    "colab": {
      "name": "Trees - Binary.ipynb",
      "provenance": [],
      "toc_visible": true
    }
  },
  "cells": [
    {
      "cell_type": "markdown",
      "metadata": {
        "id": "vsdE9pavBS25"
      },
      "source": [
        "## Binary Tree\n",
        "A binary tree is an ordered tree with the following properties:\n",
        "1. Every node has at most two children.\n",
        "2. Each child node is labeled as being either a left child or a right child.\n",
        "3. A left child precedes a right child in the order of children of a node.\n",
        "4. While searching for a value in the tree, we need to traverse the node from left to right and with a parent."
      ]
    },
    {
      "cell_type": "code",
      "metadata": {
        "id": "fDlaIQTKBS28"
      },
      "source": [
        "class BinaryTree:\n",
        "    def __init__(self,rootObj):\n",
        "        self.key = rootObj\n",
        "        self.leftChild = None\n",
        "        self.rightChild = None\n",
        "    \n",
        "    def insertLeft(self,newNode):\n",
        "        if self.leftChild == None:\n",
        "            self.leftChild = BinaryTree(newNode)\n",
        "        else:\n",
        "            t = BinaryTree(newNode)\n",
        "            t.leftChild = self.leftChild\n",
        "            self.leftChild = t\n",
        "    \n",
        "    def insertRight(self,newNode):\n",
        "        if self.rightChild == None:\n",
        "            self.rightChild = BinaryTree(newNode)\n",
        "        else:\n",
        "            t = BinaryTree(newNode)\n",
        "            t.rightChild = self.rightChild\n",
        "            self.rightChild = t\n",
        "        \n",
        "    def getRight(self):\n",
        "        return self.rightChild\n",
        "    \n",
        "    def getLeft(self):\n",
        "        return self.leftChild\n",
        "    \n",
        "    def setRoot(self,obj):\n",
        "        self.key = obj \n",
        "    \n",
        "    def getRoot(self):\n",
        "        return self.key"
      ],
      "execution_count": null,
      "outputs": []
    },
    {
      "cell_type": "code",
      "metadata": {
        "id": "0pBS36FuBS2-",
        "outputId": "613168f7-14e5-41fc-b29b-e86f1e7d72db"
      },
      "source": [
        "r = BinaryTree('a')\n",
        "print(\"root - \",r.getRoot())\n",
        "print(r.getLeft())\n",
        "r.insertLeft('b')\n",
        "print(r.getLeft())\n",
        "print(r.getLeft().getRoot())\n",
        "r.insertRight('c')\n",
        "print(r.getRight())\n",
        "print(r.getRight().getRoot())\n",
        "r.getRight().setRoot('hello')\n",
        "print(r.getRight().getRoot())"
      ],
      "execution_count": null,
      "outputs": [
        {
          "output_type": "stream",
          "text": [
            "root -  a\n",
            "None\n",
            "<__main__.BinaryTree object at 0x0000025296E0B9E8>\n",
            "b\n",
            "<__main__.BinaryTree object at 0x0000025296E15978>\n",
            "c\n",
            "hello\n"
          ],
          "name": "stdout"
        }
      ]
    },
    {
      "cell_type": "markdown",
      "metadata": {
        "id": "B6HsS7FABS2_"
      },
      "source": [
        "## Single Node based Tree implementation"
      ]
    },
    {
      "cell_type": "code",
      "metadata": {
        "id": "wkWywQVjBS2_"
      },
      "source": [
        "class Node:\n",
        "    def __init__(self,key):\n",
        "        self.left = None\n",
        "        self.right = None\n",
        "        self.val = key"
      ],
      "execution_count": null,
      "outputs": []
    },
    {
      "cell_type": "markdown",
      "metadata": {
        "id": "BlFQ2r21BS3A"
      },
      "source": [
        "## Depth First Search in a Binary Tree"
      ]
    },
    {
      "cell_type": "markdown",
      "metadata": {
        "id": "RbgzHRNwBS3A"
      },
      "source": [
        "### Tree Traversal - recursion based\n",
        "\n",
        "- Pre order Traversal\n",
        "        In a preorder traversal of a tree T, the root of T is visited first and then the sub\u0002trees rooted at its children are traversed recursively"
      ]
    },
    {
      "cell_type": "code",
      "metadata": {
        "id": "Y7XhyF1PBS3B"
      },
      "source": [
        "## Pre Order Traversal\n",
        "def preorder(BinTree):\n",
        "    if BinTree:\n",
        "        print(BinTree.getRoot())\n",
        "        preorder(BinTree.getLeft())\n",
        "        preorder(BinTree.getRight())"
      ],
      "execution_count": null,
      "outputs": []
    },
    {
      "cell_type": "markdown",
      "metadata": {
        "id": "lKMG4Y1ZBS3B"
      },
      "source": [
        "- Post order Traversal\n",
        "        It recursively traverses the subtrees rooted at the children of the root first, and then visits the root"
      ]
    },
    {
      "cell_type": "code",
      "metadata": {
        "id": "8NWQrJtPBS3B"
      },
      "source": [
        "## Post Order Traversal\n",
        "def postorder(BinTree):\n",
        "    if BinTree:\n",
        "        postorder(BinTree.getLeft())\n",
        "        postorder(BinTree.getRight())\n",
        "        print(BinTree.getRoot())"
      ],
      "execution_count": null,
      "outputs": []
    },
    {
      "cell_type": "markdown",
      "metadata": {
        "id": "L3OQbWlmBS3C"
      },
      "source": [
        "- In order Traversal\n",
        "        It recursively traverses the left child, then the root and then visits the right child"
      ]
    },
    {
      "cell_type": "code",
      "metadata": {
        "id": "zL3S5fRxBS3C"
      },
      "source": [
        "## In Order Traversal\n",
        "def inorder(BinTree):\n",
        "    if BinTree:\n",
        "        inorder(BinTree.getLeft())\n",
        "        print(BinTree.getRoot())\n",
        "        postorder(BinTree.getRight())"
      ],
      "execution_count": null,
      "outputs": []
    },
    {
      "cell_type": "markdown",
      "metadata": {
        "id": "FogO9-09BS3C"
      },
      "source": [
        "#### In Order Traversal - without recursion"
      ]
    },
    {
      "cell_type": "code",
      "metadata": {
        "id": "IZ4ExvlKBS3D",
        "outputId": "209f7c94-348c-48db-b340-77ab68dc6363"
      },
      "source": [
        "def inorderNoRecursion(BinTree):\n",
        "    current = BinTree\n",
        "    stack = []\n",
        "    done = 0\n",
        "    while True:\n",
        "        if current is not None:\n",
        "            stack.append(current)\n",
        "            current = current.left\n",
        "            \n",
        "        elif (stack):\n",
        "            current = stack.pop()\n",
        "            print(current.val,\" \")\n",
        "            current = current.right\n",
        "            \n",
        "        else:\n",
        "            break\n",
        "    \n",
        "    print()\n",
        "\n",
        "root = Node(1)\n",
        "root.left = Node(2)\n",
        "root.right = Node(3)\n",
        "root.left.left = Node(4)\n",
        "root.left.right = Node(5)\n",
        " \n",
        "inorderNoRecursion(root)"
      ],
      "execution_count": null,
      "outputs": [
        {
          "output_type": "stream",
          "text": [
            "4  \n",
            "2  \n",
            "5  \n",
            "1  \n",
            "3  \n",
            "\n"
          ],
          "name": "stdout"
        }
      ]
    },
    {
      "cell_type": "markdown",
      "metadata": {
        "id": "7Ayt4GhJBS3D"
      },
      "source": [
        "## Binary Search Tree - all 3 traversals"
      ]
    },
    {
      "cell_type": "code",
      "metadata": {
        "id": "-7COKJ8uBS3D"
      },
      "source": [
        "class BinarySearchTree:\n",
        "    def __init__(self,root):\n",
        "        self.root = root\n",
        "    \n",
        "    def inOrder(self,start,trav_arr):\n",
        "        if start:\n",
        "            trav_arr = self.inOrder(start.left,trav_arr)\n",
        "            trav_arr.append(start.val)\n",
        "            trav_arr = self.inOrder(start.right,trav_arr)\n",
        "        \n",
        "        return trav_arr\n",
        "\n",
        "    def preOrder(self,start,trav_arr):\n",
        "        if start:\n",
        "            trav_arr.append(start.val)\n",
        "            trav_arr = self.preOrder(start.left,trav_arr)\n",
        "            trav_arr = self.preOrder(start.right,trav_arr)\n",
        "        \n",
        "        return trav_arr\n",
        "\n",
        "    def postOrder(self,start,trav_arr):\n",
        "        if start:\n",
        "            trav_arr = self.postOrder(start.left,trav_arr)\n",
        "            trav_arr = self.postOrder(start.right,trav_arr)\n",
        "            trav_arr.append(start.val)\n",
        "        \n",
        "        return trav_arr"
      ],
      "execution_count": null,
      "outputs": []
    },
    {
      "cell_type": "markdown",
      "metadata": {
        "id": "j3-XGaCsBS3E"
      },
      "source": [
        "## Array/List to Binary Tree Function"
      ]
    },
    {
      "cell_type": "code",
      "metadata": {
        "id": "bUiftZ6dBS3E"
      },
      "source": [
        "def arrayToTree(arr,root,i,n):\n",
        "    if i<n:\n",
        "        temp = Node(arr[i])\n",
        "        root = temp\n",
        "        root.left = arrayToTree(arr,root.left,2*i+1,n)\n",
        "        root.right = arrayToTree(arr,root.right,2*i+2,n)\n",
        "    \n",
        "    return root "
      ],
      "execution_count": null,
      "outputs": []
    },
    {
      "cell_type": "code",
      "metadata": {
        "id": "GPADQasvBS3E",
        "outputId": "ac571584-ebbc-4495-d08b-22803b503bf2"
      },
      "source": [
        "li = [1,2,3,4,5]\n",
        "li2 =  [1,2,3,None,5,None,4]\n",
        "root = None\n",
        "root = arrayToTree(li2, root, 0, len(li2))\n",
        "\n",
        "bst = BinarySearchTree(root)\n",
        "print('in order - ',bst.inOrder(root, []))\n",
        "print('pre order - ',bst.preOrder(root, []))\n",
        "print('post order - ',bst.postOrder(root, []))"
      ],
      "execution_count": null,
      "outputs": [
        {
          "output_type": "stream",
          "text": [
            "in order -  [None, 2, 5, 1, None, 3, 4]\n",
            "pre order -  [1, 2, None, 5, 3, None, 4]\n",
            "post order -  [None, 5, 2, None, 4, 3, 1]\n"
          ],
          "name": "stdout"
        }
      ]
    },
    {
      "cell_type": "markdown",
      "metadata": {
        "id": "3OioSLWPBS3F"
      },
      "source": [
        "## Breadth First Search in a Binary Tree\n",
        "### Level Order Traversal\n",
        "\n",
        "#### Recursion Based"
      ]
    },
    {
      "cell_type": "code",
      "metadata": {
        "id": "Cw4xVlkpBS3F",
        "outputId": "489a50cb-047e-48cb-e499-d20dfb6876e6"
      },
      "source": [
        "def printLevelOrderTraversal(root):\n",
        "    d = depthBinTree(root)\n",
        "    for i in range(1,d+1):\n",
        "        printCurrentLevelOrder(root,i)\n",
        "\n",
        "def printCurrentLevelOrder(root,level):\n",
        "    if not root:\n",
        "        return \n",
        "    if level==1:\n",
        "        print(root.val)\n",
        "    elif level>1:\n",
        "        printCurrentLevelOrder(root.left,level-1)\n",
        "        printCurrentLevelOrder(root.right,level-1)\n",
        "\n",
        "li = [1,2,3,4,5]\n",
        "root = None\n",
        "root = arrayToTree(li, root, 0, len(li))\n",
        "printLevelOrderTraversal(root)"
      ],
      "execution_count": null,
      "outputs": [
        {
          "output_type": "stream",
          "text": [
            "1\n",
            "2\n",
            "3\n",
            "4\n",
            "5\n"
          ],
          "name": "stdout"
        }
      ]
    },
    {
      "cell_type": "markdown",
      "metadata": {
        "id": "FiBIQ9mmBS3G"
      },
      "source": [
        "#### Iterative Approach - queue datastructure and level grouping"
      ]
    },
    {
      "cell_type": "code",
      "metadata": {
        "id": "Myc4TFe0BS3G",
        "outputId": "7595ed1d-a264-4aa9-926b-532437722b65"
      },
      "source": [
        "import collections\n",
        "\n",
        "def iterLevelOrder(root):\n",
        "    result = []\n",
        "    \n",
        "    if not root:\n",
        "        return result\n",
        "    \n",
        "    q = collections.deque() #double ended queue that allows insert and delete at both ends\n",
        "    q.append(root)\n",
        "    \n",
        "    while q:\n",
        "        count = len(q)\n",
        "        level_list = []\n",
        "        while count>0:\n",
        "            temp = q.popleft()\n",
        "            level_list.append(temp.val)\n",
        "            count -=1\n",
        "            if temp.left:\n",
        "                q.append(temp.left)\n",
        "            if temp.right:\n",
        "                q.append(temp.right)\n",
        "                \n",
        "        result.append(level_list)\n",
        "        \n",
        "    \n",
        "    return result\n",
        "        \n",
        "li = [1,2,3,4,5]\n",
        "li4 = [1,2,3,None,5,None]\n",
        "root = None\n",
        "root = arrayToTree(li4,root, 0, len(li4))\n",
        "iterLevelOrder(root)"
      ],
      "execution_count": null,
      "outputs": [
        {
          "output_type": "execute_result",
          "data": {
            "text/plain": [
              "[[1], [2, 3], [None, 5, None]]"
            ]
          },
          "metadata": {
            "tags": []
          },
          "execution_count": 21
        }
      ]
    },
    {
      "cell_type": "markdown",
      "metadata": {
        "id": "qeSnE0dZBS3H"
      },
      "source": [
        "## Q1) Maximum Depth of a Binary Tree"
      ]
    },
    {
      "cell_type": "code",
      "metadata": {
        "id": "x1SZb-U2BS3H"
      },
      "source": [
        "def depthBinTree(root):\n",
        "    if not root:\n",
        "        return 0\n",
        "    \n",
        "    left_subtree = depthBinTree(root.left)\n",
        "    right_subtree = depthBinTree(root.right)\n",
        "    \n",
        "    return max(left_subtree,right_subtree) + 1"
      ],
      "execution_count": null,
      "outputs": []
    },
    {
      "cell_type": "code",
      "metadata": {
        "id": "igIjwwdyBS3H"
      },
      "source": [
        "li = [1,2,3,4,5]\n",
        "root = None\n",
        "root = arrayToTree(li, root, 0, len(li))\n",
        "depthBinTree(root)"
      ],
      "execution_count": null,
      "outputs": []
    },
    {
      "cell_type": "markdown",
      "metadata": {
        "id": "ohD9jky5BS3I"
      },
      "source": [
        "## Q2) Diameter of a Binary Tree\n",
        "### Diameter - longest path between any two nodes in a tree\n",
        "\n",
        "Alternatively in this solution we calculate diameter as the sum of left and right subtree heights"
      ]
    },
    {
      "cell_type": "code",
      "metadata": {
        "id": "fEU0jxA6BS3J"
      },
      "source": [
        "#Definition for a binary tree node.\n",
        "class TreeNode:\n",
        "    def __init__(self, val=0, left=None, right=None):\n",
        "        self.val = val\n",
        "        self.left = left\n",
        "        self.right = right"
      ],
      "execution_count": null,
      "outputs": []
    },
    {
      "cell_type": "code",
      "metadata": {
        "id": "u2fF1dDgBS3J"
      },
      "source": [
        "class Solution:\n",
        "    def diameterOfBinaryTree(self, root):\n",
        "        res = [0] #global variable within the class\n",
        "        \n",
        "        def depth(root):\n",
        "            if not root: #null node\n",
        "                print(\"null node\")\n",
        "                return 0 # height of a null tree (no children) is 0 assumption\n",
        "            else:\n",
        "                print(root.val) #logging\n",
        "                \n",
        "            l_depth = depth(root.left)\n",
        "            r_depth = depth(root.right)\n",
        "            res[0] = max(res[0], l_depth + r_depth)\n",
        "            return 1 + max(l_depth, r_depth) # returns the height of the sub tree (maximum)\n",
        "        \n",
        "        depth(root)\n",
        "        return res[0]"
      ],
      "execution_count": null,
      "outputs": []
    },
    {
      "cell_type": "code",
      "metadata": {
        "id": "ZtLsnHGkBS3K"
      },
      "source": [
        "li = [1,2,3,4,5]\n",
        "root = None\n",
        "root = arrayToTree(li, root, 0, len(li))\n",
        "sol = Solution()\n",
        "sol.diameterOfBinaryTree(root)"
      ],
      "execution_count": null,
      "outputs": []
    },
    {
      "cell_type": "code",
      "metadata": {
        "id": "mU-ECVipBS3K"
      },
      "source": [
        "root.val"
      ],
      "execution_count": null,
      "outputs": []
    },
    {
      "cell_type": "markdown",
      "metadata": {
        "id": "4F57XnG-BS3K"
      },
      "source": [
        "## Q3) Invert Binary Tree aka Mirror Image\n",
        "Input: root = [4,2,7,1,3,6,9]\n",
        "\n",
        "Output: [4,7,2,9,6,3,1]"
      ]
    },
    {
      "cell_type": "code",
      "metadata": {
        "id": "n8XsVdUvBS3K"
      },
      "source": [
        ""
      ],
      "execution_count": null,
      "outputs": []
    },
    {
      "cell_type": "markdown",
      "metadata": {
        "id": "phFkXigYBS3K"
      },
      "source": [
        "## Q4) Print the right and left side view of a Binary Tree\n",
        "#### Recursive 'Right/Left' only traversal method - WRONG"
      ]
    },
    {
      "cell_type": "code",
      "metadata": {
        "id": "jYlmyjKoBS3L",
        "outputId": "1ca054b6-e559-44bc-d80a-11f66ce254df"
      },
      "source": [
        "'''\n",
        "class Solution:\n",
        "    def __init__(self,root):\n",
        "        self.root = root\n",
        "        \n",
        "    def rightSideView(self,root,right_arr):\n",
        "        if root and root.val!= None:\n",
        "            right_arr.append(root.val)\n",
        "            right_arr = self.rightSideView(root.right,right_arr)\n",
        "        \n",
        "        return right_arr\n",
        "    \n",
        "    def leftSideView(self,root,left_arr):\n",
        "        if root and root.val!= None:\n",
        "            left_arr.append(root.val)\n",
        "            left_arr = self.leftSideView(root.left, left_arr)\n",
        "        \n",
        "        return left_arr\n",
        "'''"
      ],
      "execution_count": null,
      "outputs": [
        {
          "output_type": "execute_result",
          "data": {
            "text/plain": [
              "'\\nclass Solution:\\n    def __init__(self,root):\\n        self.root = root\\n        \\n    def rightSideView(self,root,right_arr):\\n        if root and root.val!= None:\\n            right_arr.append(root.val)\\n            right_arr = self.rightSideView(root.right,right_arr)\\n        \\n        return right_arr\\n    \\n    def leftSideView(self,root,left_arr):\\n        if root and root.val!= None:\\n            left_arr.append(root.val)\\n            left_arr = self.leftSideView(root.left, left_arr)\\n        \\n        return left_arr\\n'"
            ]
          },
          "metadata": {
            "tags": []
          },
          "execution_count": 22
        }
      ]
    },
    {
      "cell_type": "markdown",
      "metadata": {
        "id": "YZN9xePwBS3L"
      },
      "source": [
        "### Correct Approach - Level Order Traversal\n",
        "#### i) Naive Approach"
      ]
    },
    {
      "cell_type": "code",
      "metadata": {
        "id": "kwfbRLrQBS3L"
      },
      "source": [
        "# O(n2) solution since it uses nested loops - naive\n",
        "class Solution:\n",
        "    def iterorder(self,root):\n",
        "        result = []\n",
        "        if not root:\n",
        "            return result\n",
        "        q = collections.deque()\n",
        "        q.append(root)\n",
        "        while q:\n",
        "            count = len(q)\n",
        "            level_list = []\n",
        "            while count>0:\n",
        "                temp = q.popleft()\n",
        "                level_list.append(temp.val)\n",
        "                count -=1\n",
        "                if temp.left:\n",
        "                    q.append(temp.left)\n",
        "                if temp.right:\n",
        "                    q.append(temp.right)\n",
        "\n",
        "            result.append(level_list)\n",
        "\n",
        "        return result\n",
        "            \n",
        "    def rightSideView(self,root: TreeNode):\n",
        "        right_arr = []\n",
        "        for ele in self.iterorder(root):\n",
        "            l = len(ele)\n",
        "            i=1\n",
        "            while i<=l:\n",
        "                if ele[-i] != None:\n",
        "                    right_arr.append(ele[-i])\n",
        "                    break\n",
        "                i+=1\n",
        "       \n",
        "        return right_arr"
      ],
      "execution_count": null,
      "outputs": []
    },
    {
      "cell_type": "code",
      "metadata": {
        "id": "iSQlcQHSBS3M",
        "outputId": "603dec88-604d-49fe-a31f-f21b5d8030b9"
      },
      "source": [
        "li = [1,2,3,4,5]\n",
        "li2 =  [1,2,3,None,5,None,4]\n",
        "li3=[1,2,None]\n",
        "li4 = [1,2,3,None,5,4,None]\n",
        "root = None\n",
        "root = arrayToTree(li, root, 0, len(li))\n",
        "sol = Solution()\n",
        "#sol.iterorder(root)\n",
        "sol.rightSideView(root)"
      ],
      "execution_count": null,
      "outputs": [
        {
          "output_type": "execute_result",
          "data": {
            "text/plain": [
              "[1, 3, 5]"
            ]
          },
          "metadata": {
            "tags": []
          },
          "execution_count": 95
        }
      ]
    },
    {
      "cell_type": "markdown",
      "metadata": {
        "id": "1HUdYz65BS3M"
      },
      "source": [
        "### Optimized Solution"
      ]
    },
    {
      "cell_type": "code",
      "metadata": {
        "id": "QkyKzNtHBS3M"
      },
      "source": [
        "class Solution:\n",
        "    def rightsideview(self,root):\n",
        "        if not root:\n",
        "            return []\n",
        "        q = collections.deque()\n",
        "        q.append(root)\n",
        "        right_list = []\n",
        "        while q:\n",
        "            count = len(q)\n",
        "            right_list.append(q[-1].val)\n",
        "            while count>0:\n",
        "                temp = q.popleft()\n",
        "                if temp.left:\n",
        "                    q.append(temp.left)\n",
        "                if temp.right:\n",
        "                    q.append(temp.right)\n",
        "                    \n",
        "                count -=1\n",
        "\n",
        "        return right_list"
      ],
      "execution_count": null,
      "outputs": []
    },
    {
      "cell_type": "code",
      "metadata": {
        "id": "yzv3KmIRBS3N",
        "outputId": "e42aaa7b-eaad-47de-9d98-1804f5498eac"
      },
      "source": [
        "li = [1,2,3,4,5]\n",
        "li2 =  [1,2,3,None,5,None,4]\n",
        "li3=[1,2,None]\n",
        "li4 = [1,2,3,None,5,4,None]\n",
        "root = None\n",
        "root = arrayToTree(li4, root, 0, len(li4))\n",
        "sol = Solution()\n",
        "#sol.iterorder(root)\n",
        "sol.rightsideview(root)"
      ],
      "execution_count": null,
      "outputs": [
        {
          "output_type": "execute_result",
          "data": {
            "text/plain": [
              "[1, 3, None]"
            ]
          },
          "metadata": {
            "tags": []
          },
          "execution_count": 106
        }
      ]
    },
    {
      "cell_type": "code",
      "metadata": {
        "id": "6zZ4X28BBS3N"
      },
      "source": [
        ""
      ],
      "execution_count": null,
      "outputs": []
    }
  ]
}