{
 "cells": [
  {
   "cell_type": "markdown",
   "metadata": {},
   "source": [
    "## Binary Tree\n",
    "A binary tree is an ordered tree with the following properties:\n",
    "1. Every node has at most two children.\n",
    "2. Each child node is labeled as being either a left child or a right child.\n",
    "3. A left child precedes a right child in the order of children of a node.\n",
    "4. While searching for a value in the tree, we need to traverse the node from left to right and with a parent."
   ]
  },
  {
   "cell_type": "code",
   "execution_count": 1,
   "metadata": {},
   "outputs": [],
   "source": [
    "class BinaryTree:\n",
    "    def __init__(self,rootObj):\n",
    "        self.key = rootObj\n",
    "        self.leftChild = None\n",
    "        self.rightChild = None\n",
    "    \n",
    "    def insertLeft(self,newNode):\n",
    "        if self.leftChild == None:\n",
    "            self.leftChild = BinaryTree(newNode)\n",
    "        else:\n",
    "            t = BinaryTree(newNode)\n",
    "            t.leftChild = self.leftChild\n",
    "            self.leftChild = t\n",
    "    \n",
    "    def insertRight(self,newNode):\n",
    "        if self.rightChild == None:\n",
    "            self.rightChild = BinaryTree(newNode)\n",
    "        else:\n",
    "            t = BinaryTree(newNode)\n",
    "            t.rightChild = self.rightChild\n",
    "            self.rightChild = t\n",
    "        \n",
    "    def getRight(self):\n",
    "        return self.rightChild\n",
    "    \n",
    "    def getLeft(self):\n",
    "        return self.leftChild\n",
    "    \n",
    "    def setRoot(self,obj):\n",
    "        self.key = obj \n",
    "    \n",
    "    def getRoot(self):\n",
    "        return self.key"
   ]
  },
  {
   "cell_type": "code",
   "execution_count": 2,
   "metadata": {},
   "outputs": [
    {
     "name": "stdout",
     "output_type": "stream",
     "text": [
      "root -  a\n",
      "None\n",
      "<__main__.BinaryTree object at 0x0000025296E0B9E8>\n",
      "b\n",
      "<__main__.BinaryTree object at 0x0000025296E15978>\n",
      "c\n",
      "hello\n"
     ]
    }
   ],
   "source": [
    "r = BinaryTree('a')\n",
    "print(\"root - \",r.getRoot())\n",
    "print(r.getLeft())\n",
    "r.insertLeft('b')\n",
    "print(r.getLeft())\n",
    "print(r.getLeft().getRoot())\n",
    "r.insertRight('c')\n",
    "print(r.getRight())\n",
    "print(r.getRight().getRoot())\n",
    "r.getRight().setRoot('hello')\n",
    "print(r.getRight().getRoot())"
   ]
  },
  {
   "cell_type": "markdown",
   "metadata": {},
   "source": [
    "## Single Node based Tree implementation"
   ]
  },
  {
   "cell_type": "code",
   "execution_count": 3,
   "metadata": {},
   "outputs": [],
   "source": [
    "class Node:\n",
    "    def __init__(self,key):\n",
    "        self.left = None\n",
    "        self.right = None\n",
    "        self.val = key"
   ]
  },
  {
   "cell_type": "markdown",
   "metadata": {},
   "source": [
    "## Depth First Search in a Binary Tree"
   ]
  },
  {
   "cell_type": "markdown",
   "metadata": {},
   "source": [
    "### Tree Traversal - recursion based\n",
    "\n",
    "- Pre order Traversal\n",
    "        In a preorder traversal of a tree T, the root of T is visited first and then the sub\u0002trees rooted at its children are traversed recursively"
   ]
  },
  {
   "cell_type": "code",
   "execution_count": 4,
   "metadata": {},
   "outputs": [],
   "source": [
    "## Pre Order Traversal\n",
    "def preorder(BinTree):\n",
    "    if BinTree:\n",
    "        print(BinTree.getRoot())\n",
    "        preorder(BinTree.getLeft())\n",
    "        preorder(BinTree.getRight())"
   ]
  },
  {
   "cell_type": "markdown",
   "metadata": {},
   "source": [
    "- Post order Traversal\n",
    "        It recursively traverses the subtrees rooted at the children of the root first, and then visits the root"
   ]
  },
  {
   "cell_type": "code",
   "execution_count": 5,
   "metadata": {},
   "outputs": [],
   "source": [
    "## Post Order Traversal\n",
    "def postorder(BinTree):\n",
    "    if BinTree:\n",
    "        postorder(BinTree.getLeft())\n",
    "        postorder(BinTree.getRight())\n",
    "        print(BinTree.getRoot())"
   ]
  },
  {
   "cell_type": "markdown",
   "metadata": {},
   "source": [
    "- In order Traversal\n",
    "        It recursively traverses the left child, then the root and then visits the right child"
   ]
  },
  {
   "cell_type": "code",
   "execution_count": 6,
   "metadata": {},
   "outputs": [],
   "source": [
    "## In Order Traversal\n",
    "def inorder(BinTree):\n",
    "    if BinTree:\n",
    "        inorder(BinTree.getLeft())\n",
    "        print(BinTree.getRoot())\n",
    "        postorder(BinTree.getRight())"
   ]
  },
  {
   "cell_type": "markdown",
   "metadata": {},
   "source": [
    "#### In Order Traversal - without recursion"
   ]
  },
  {
   "cell_type": "code",
   "execution_count": 7,
   "metadata": {},
   "outputs": [
    {
     "name": "stdout",
     "output_type": "stream",
     "text": [
      "4  \n",
      "2  \n",
      "5  \n",
      "1  \n",
      "3  \n",
      "\n"
     ]
    }
   ],
   "source": [
    "def inorderNoRecursion(BinTree):\n",
    "    current = BinTree\n",
    "    stack = []\n",
    "    done = 0\n",
    "    while True:\n",
    "        if current is not None:\n",
    "            stack.append(current)\n",
    "            current = current.left\n",
    "            \n",
    "        elif (stack):\n",
    "            current = stack.pop()\n",
    "            print(current.val,\" \")\n",
    "            current = current.right\n",
    "            \n",
    "        else:\n",
    "            break\n",
    "    \n",
    "    print()\n",
    "\n",
    "root = Node(1)\n",
    "root.left = Node(2)\n",
    "root.right = Node(3)\n",
    "root.left.left = Node(4)\n",
    "root.left.right = Node(5)\n",
    " \n",
    "inorderNoRecursion(root)"
   ]
  },
  {
   "cell_type": "markdown",
   "metadata": {},
   "source": [
    "## Binary Search Tree - all 3 traversals"
   ]
  },
  {
   "cell_type": "code",
   "execution_count": 8,
   "metadata": {},
   "outputs": [],
   "source": [
    "class BinarySearchTree:\n",
    "    def __init__(self,root):\n",
    "        self.root = root\n",
    "    \n",
    "    def inOrder(self,start,trav_arr):\n",
    "        if start:\n",
    "            trav_arr = self.inOrder(start.left,trav_arr)\n",
    "            trav_arr.append(start.val)\n",
    "            trav_arr = self.inOrder(start.right,trav_arr)\n",
    "        \n",
    "        return trav_arr\n",
    "\n",
    "    def preOrder(self,start,trav_arr):\n",
    "        if start:\n",
    "            trav_arr.append(start.val)\n",
    "            trav_arr = self.preOrder(start.left,trav_arr)\n",
    "            trav_arr = self.preOrder(start.right,trav_arr)\n",
    "        \n",
    "        return trav_arr\n",
    "\n",
    "    def postOrder(self,start,trav_arr):\n",
    "        if start:\n",
    "            trav_arr = self.postOrder(start.left,trav_arr)\n",
    "            trav_arr = self.postOrder(start.right,trav_arr)\n",
    "            trav_arr.append(start.val)\n",
    "        \n",
    "        return trav_arr"
   ]
  },
  {
   "cell_type": "markdown",
   "metadata": {},
   "source": [
    "## Array/List to Binary Tree Function"
   ]
  },
  {
   "cell_type": "code",
   "execution_count": 9,
   "metadata": {},
   "outputs": [],
   "source": [
    "def arrayToTree(arr,root,i,n):\n",
    "    if i<n:\n",
    "        temp = Node(arr[i])\n",
    "        root = temp\n",
    "        root.left = arrayToTree(arr,root.left,2*i+1,n)\n",
    "        root.right = arrayToTree(arr,root.right,2*i+2,n)\n",
    "    \n",
    "    return root "
   ]
  },
  {
   "cell_type": "code",
   "execution_count": 10,
   "metadata": {},
   "outputs": [
    {
     "name": "stdout",
     "output_type": "stream",
     "text": [
      "in order -  [None, 2, 5, 1, None, 3, 4]\n",
      "pre order -  [1, 2, None, 5, 3, None, 4]\n",
      "post order -  [None, 5, 2, None, 4, 3, 1]\n"
     ]
    }
   ],
   "source": [
    "li = [1,2,3,4,5]\n",
    "li2 =  [1,2,3,None,5,None,4]\n",
    "root = None\n",
    "root = arrayToTree(li2, root, 0, len(li2))\n",
    "\n",
    "bst = BinarySearchTree(root)\n",
    "print('in order - ',bst.inOrder(root, []))\n",
    "print('pre order - ',bst.preOrder(root, []))\n",
    "print('post order - ',bst.postOrder(root, []))"
   ]
  },
  {
   "cell_type": "markdown",
   "metadata": {},
   "source": [
    "## Breadth First Search in a Binary Tree\n",
    "### Level Order Traversal\n",
    "\n",
    "#### Recursion Based"
   ]
  },
  {
   "cell_type": "code",
   "execution_count": 13,
   "metadata": {},
   "outputs": [
    {
     "name": "stdout",
     "output_type": "stream",
     "text": [
      "1\n",
      "2\n",
      "3\n",
      "4\n",
      "5\n"
     ]
    }
   ],
   "source": [
    "def printLevelOrderTraversal(root):\n",
    "    d = depthBinTree(root)\n",
    "    for i in range(1,d+1):\n",
    "        printCurrentLevelOrder(root,i)\n",
    "\n",
    "def printCurrentLevelOrder(root,level):\n",
    "    if not root:\n",
    "        return \n",
    "    if level==1:\n",
    "        print(root.val)\n",
    "    elif level>1:\n",
    "        printCurrentLevelOrder(root.left,level-1)\n",
    "        printCurrentLevelOrder(root.right,level-1)\n",
    "\n",
    "li = [1,2,3,4,5]\n",
    "root = None\n",
    "root = arrayToTree(li, root, 0, len(li))\n",
    "printLevelOrderTraversal(root)"
   ]
  },
  {
   "cell_type": "markdown",
   "metadata": {},
   "source": [
    "#### Iterative Approach - queue datastructure and level grouping"
   ]
  },
  {
   "cell_type": "code",
   "execution_count": 21,
   "metadata": {},
   "outputs": [
    {
     "data": {
      "text/plain": [
       "[[1], [2, 3], [None, 5, None]]"
      ]
     },
     "execution_count": 21,
     "metadata": {},
     "output_type": "execute_result"
    }
   ],
   "source": [
    "import collections\n",
    "\n",
    "def iterLevelOrder(root):\n",
    "    result = []\n",
    "    \n",
    "    if not root:\n",
    "        return result\n",
    "    \n",
    "    q = collections.deque() #double ended queue that allows insert and delete at both ends\n",
    "    q.append(root)\n",
    "    \n",
    "    while q:\n",
    "        count = len(q)\n",
    "        level_list = []\n",
    "        while count>0:\n",
    "            temp = q.popleft()\n",
    "            level_list.append(temp.val)\n",
    "            count -=1\n",
    "            if temp.left:\n",
    "                q.append(temp.left)\n",
    "            if temp.right:\n",
    "                q.append(temp.right)\n",
    "                \n",
    "        result.append(level_list)\n",
    "        \n",
    "    \n",
    "    return result\n",
    "        \n",
    "li = [1,2,3,4,5]\n",
    "li4 = [1,2,3,None,5,None]\n",
    "root = None\n",
    "root = arrayToTree(li4,root, 0, len(li4))\n",
    "iterLevelOrder(root)"
   ]
  },
  {
   "cell_type": "markdown",
   "metadata": {},
   "source": [
    "## Q1) Maximum Depth of a Binary Tree"
   ]
  },
  {
   "cell_type": "code",
   "execution_count": 12,
   "metadata": {},
   "outputs": [],
   "source": [
    "def depthBinTree(root):\n",
    "    if not root:\n",
    "        return 0\n",
    "    \n",
    "    left_subtree = depthBinTree(root.left)\n",
    "    right_subtree = depthBinTree(root.right)\n",
    "    \n",
    "    return max(left_subtree,right_subtree) + 1"
   ]
  },
  {
   "cell_type": "code",
   "execution_count": null,
   "metadata": {},
   "outputs": [],
   "source": [
    "li = [1,2,3,4,5]\n",
    "root = None\n",
    "root = arrayToTree(li, root, 0, len(li))\n",
    "depthBinTree(root)"
   ]
  },
  {
   "cell_type": "markdown",
   "metadata": {},
   "source": [
    "## Q2) Diameter of a Binary Tree\n",
    "### Diameter - longest path between any two nodes in a tree\n",
    "\n",
    "Alternatively in this solution we calculate diameter as the sum of left and right subtree heights"
   ]
  },
  {
   "cell_type": "code",
   "execution_count": 24,
   "metadata": {},
   "outputs": [],
   "source": [
    "#Definition for a binary tree node.\n",
    "class TreeNode:\n",
    "    def __init__(self, val=0, left=None, right=None):\n",
    "        self.val = val\n",
    "        self.left = left\n",
    "        self.right = right"
   ]
  },
  {
   "cell_type": "code",
   "execution_count": null,
   "metadata": {},
   "outputs": [],
   "source": [
    "class Solution:\n",
    "    def diameterOfBinaryTree(self, root):\n",
    "        res = [0] #global variable within the class\n",
    "        \n",
    "        def depth(root):\n",
    "            if not root: #null node\n",
    "                print(\"null node\")\n",
    "                return 0 # height of a null tree (no children) is 0 assumption\n",
    "            else:\n",
    "                print(root.val) #logging\n",
    "                \n",
    "            l_depth = depth(root.left)\n",
    "            r_depth = depth(root.right)\n",
    "            res[0] = max(res[0], l_depth + r_depth)\n",
    "            return 1 + max(l_depth, r_depth) # returns the height of the sub tree (maximum)\n",
    "        \n",
    "        depth(root)\n",
    "        return res[0]"
   ]
  },
  {
   "cell_type": "code",
   "execution_count": null,
   "metadata": {},
   "outputs": [],
   "source": [
    "li = [1,2,3,4,5]\n",
    "root = None\n",
    "root = arrayToTree(li, root, 0, len(li))\n",
    "sol = Solution()\n",
    "sol.diameterOfBinaryTree(root)"
   ]
  },
  {
   "cell_type": "code",
   "execution_count": null,
   "metadata": {},
   "outputs": [],
   "source": [
    "root.val"
   ]
  },
  {
   "cell_type": "markdown",
   "metadata": {},
   "source": [
    "## Q3) Invert Binary Tree aka Mirror Image"
   ]
  },
  {
   "cell_type": "code",
   "execution_count": null,
   "metadata": {},
   "outputs": [],
   "source": [
    "        "
   ]
  },
  {
   "cell_type": "markdown",
   "metadata": {},
   "source": [
    "## Q4) Print the right and left side view of a Binary Tree\n",
    "#### Recursive 'Right/Left' only traversal method - WRONG"
   ]
  },
  {
   "cell_type": "code",
   "execution_count": 22,
   "metadata": {},
   "outputs": [
    {
     "data": {
      "text/plain": [
       "'\\nclass Solution:\\n    def __init__(self,root):\\n        self.root = root\\n        \\n    def rightSideView(self,root,right_arr):\\n        if root and root.val!= None:\\n            right_arr.append(root.val)\\n            right_arr = self.rightSideView(root.right,right_arr)\\n        \\n        return right_arr\\n    \\n    def leftSideView(self,root,left_arr):\\n        if root and root.val!= None:\\n            left_arr.append(root.val)\\n            left_arr = self.leftSideView(root.left, left_arr)\\n        \\n        return left_arr\\n'"
      ]
     },
     "execution_count": 22,
     "metadata": {},
     "output_type": "execute_result"
    }
   ],
   "source": [
    "'''\n",
    "class Solution:\n",
    "    def __init__(self,root):\n",
    "        self.root = root\n",
    "        \n",
    "    def rightSideView(self,root,right_arr):\n",
    "        if root and root.val!= None:\n",
    "            right_arr.append(root.val)\n",
    "            right_arr = self.rightSideView(root.right,right_arr)\n",
    "        \n",
    "        return right_arr\n",
    "    \n",
    "    def leftSideView(self,root,left_arr):\n",
    "        if root and root.val!= None:\n",
    "            left_arr.append(root.val)\n",
    "            left_arr = self.leftSideView(root.left, left_arr)\n",
    "        \n",
    "        return left_arr\n",
    "'''"
   ]
  },
  {
   "cell_type": "markdown",
   "metadata": {},
   "source": [
    "### Correct Approach - Level Order Traversal\n",
    "#### i) Naive Approach"
   ]
  },
  {
   "cell_type": "code",
   "execution_count": 96,
   "metadata": {},
   "outputs": [],
   "source": [
    "# O(n2) solution since it uses nested loops - naive\n",
    "class Solution:\n",
    "    def iterorder(self,root):\n",
    "        result = []\n",
    "        if not root:\n",
    "            return result\n",
    "        q = collections.deque()\n",
    "        q.append(root)\n",
    "        while q:\n",
    "            count = len(q)\n",
    "            level_list = []\n",
    "            while count>0:\n",
    "                temp = q.popleft()\n",
    "                level_list.append(temp.val)\n",
    "                count -=1\n",
    "                if temp.left:\n",
    "                    q.append(temp.left)\n",
    "                if temp.right:\n",
    "                    q.append(temp.right)\n",
    "\n",
    "            result.append(level_list)\n",
    "\n",
    "        return result\n",
    "            \n",
    "    def rightSideView(self,root: TreeNode):\n",
    "        right_arr = []\n",
    "        for ele in self.iterorder(root):\n",
    "            l = len(ele)\n",
    "            i=1\n",
    "            while i<=l:\n",
    "                if ele[-i] != None:\n",
    "                    right_arr.append(ele[-i])\n",
    "                    break\n",
    "                i+=1\n",
    "       \n",
    "        return right_arr"
   ]
  },
  {
   "cell_type": "code",
   "execution_count": 95,
   "metadata": {},
   "outputs": [
    {
     "data": {
      "text/plain": [
       "[1, 3, 5]"
      ]
     },
     "execution_count": 95,
     "metadata": {},
     "output_type": "execute_result"
    }
   ],
   "source": [
    "li = [1,2,3,4,5]\n",
    "li2 =  [1,2,3,None,5,None,4]\n",
    "li3=[1,2,None]\n",
    "li4 = [1,2,3,None,5,4,None]\n",
    "root = None\n",
    "root = arrayToTree(li, root, 0, len(li))\n",
    "sol = Solution()\n",
    "#sol.iterorder(root)\n",
    "sol.rightSideView(root)"
   ]
  },
  {
   "cell_type": "markdown",
   "metadata": {},
   "source": [
    "### Optimized Solution"
   ]
  },
  {
   "cell_type": "code",
   "execution_count": 105,
   "metadata": {},
   "outputs": [],
   "source": [
    "class Solution:\n",
    "    def rightsideview(self,root):\n",
    "        if not root:\n",
    "            return []\n",
    "        q = collections.deque()\n",
    "        q.append(root)\n",
    "        right_list = []\n",
    "        while q:\n",
    "            count = len(q)\n",
    "            right_list.append(q[-1].val)\n",
    "            while count>0:\n",
    "                temp = q.popleft()\n",
    "                if temp.left:\n",
    "                    q.append(temp.left)\n",
    "                if temp.right:\n",
    "                    q.append(temp.right)\n",
    "                    \n",
    "                count -=1\n",
    "\n",
    "        return right_list"
   ]
  },
  {
   "cell_type": "code",
   "execution_count": 106,
   "metadata": {},
   "outputs": [
    {
     "data": {
      "text/plain": [
       "[1, 3, None]"
      ]
     },
     "execution_count": 106,
     "metadata": {},
     "output_type": "execute_result"
    }
   ],
   "source": [
    "li = [1,2,3,4,5]\n",
    "li2 =  [1,2,3,None,5,None,4]\n",
    "li3=[1,2,None]\n",
    "li4 = [1,2,3,None,5,4,None]\n",
    "root = None\n",
    "root = arrayToTree(li4, root, 0, len(li4))\n",
    "sol = Solution()\n",
    "#sol.iterorder(root)\n",
    "sol.rightsideview(root)"
   ]
  },
  {
   "cell_type": "code",
   "execution_count": null,
   "metadata": {},
   "outputs": [],
   "source": []
  }
 ],
 "metadata": {
  "kernelspec": {
   "display_name": "Python 3",
   "language": "python",
   "name": "python3"
  },
  "language_info": {
   "codemirror_mode": {
    "name": "ipython",
    "version": 3
   },
   "file_extension": ".py",
   "mimetype": "text/x-python",
   "name": "python",
   "nbconvert_exporter": "python",
   "pygments_lexer": "ipython3",
   "version": "3.7.2"
  }
 },
 "nbformat": 4,
 "nbformat_minor": 2
}
