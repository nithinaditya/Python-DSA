{
 "cells": [
  {
   "cell_type": "markdown",
   "metadata": {},
   "source": [
    "# Classes"
   ]
  },
  {
   "cell_type": "code",
   "execution_count": 14,
   "metadata": {},
   "outputs": [],
   "source": [
    "class Fraction:\n",
    "    def __init__(self,top,bottom):\n",
    "        self.num = top\n",
    "        self.denom = bottom\n",
    "        \n",
    "    def show(self):\n",
    "        print(self.num,'/',self.denom)"
   ]
  },
  {
   "cell_type": "markdown",
   "metadata": {},
   "source": [
    "- self is a special parameter that will always be used as a reference back to the object itself. \n",
    "- It must always be the first formal parameter; however, it will never be given an actual parameter value upon invocation."
   ]
  },
  {
   "cell_type": "code",
   "execution_count": 15,
   "metadata": {},
   "outputs": [
    {
     "name": "stdout",
     "output_type": "stream",
     "text": [
      "3 / 5\n"
     ]
    }
   ],
   "source": [
    "myfraction = Fraction(3,5)\n",
    "myfraction.show()"
   ]
  },
  {
   "cell_type": "code",
   "execution_count": 18,
   "metadata": {},
   "outputs": [
    {
     "ename": "TypeError",
     "evalue": "__init__() missing 1 required positional argument: 'bottom'",
     "output_type": "error",
     "traceback": [
      "\u001b[1;31m---------------------------------------------------------------------------\u001b[0m",
      "\u001b[1;31mTypeError\u001b[0m                                 Traceback (most recent call last)",
      "\u001b[1;32m<ipython-input-18-6adf423d685e>\u001b[0m in \u001b[0;36m<module>\u001b[1;34m\u001b[0m\n\u001b[1;32m----> 1\u001b[1;33m \u001b[0ma\u001b[0m \u001b[1;33m=\u001b[0m \u001b[0mFraction\u001b[0m\u001b[1;33m(\u001b[0m\u001b[1;36m1\u001b[0m\u001b[1;33m)\u001b[0m\u001b[1;33m\u001b[0m\u001b[1;33m\u001b[0m\u001b[0m\n\u001b[0m",
      "\u001b[1;31mTypeError\u001b[0m: __init__() missing 1 required positional argument: 'bottom'"
     ]
    }
   ],
   "source": [
    "a = Fraction(1) # normal function rule applies for the arguments"
   ]
  },
  {
   "cell_type": "markdown",
   "metadata": {},
   "source": [
    "## Standard Methods for Classes\n",
    "https://rszalski.github.io/magicmethods/\n",
    "\n",
    "### Fundamental methods\n",
    "\n",
    "1. __new__(cls,..) - the first method to be invoked when a class object is initialized which is fed to __init__(), explicitly used when **immutable** data types\n",
    "2. __init__(self,..) - initializer for the class, **new and init are useful in creating the constructor for the object**\n",
    "3. __del__(self,...) - destructor of the object (don't use it, has relations with interpreter so unlikely it'll do it's job)\n",
    "\n",
    "### Comparison magic methods\n",
    "- eq,ne,lt,gt,le,ge\n",
    "\n",
    "### Numeric magic methods\n",
    "- all math methods: pos,neg,floor etc [ __floor__(self,...) ]\n",
    "\n",
    "### Numeric Operation methods\n",
    "- add,sub,mul,div,mod,and,or,xor (reflected operators and augmented assignment as well - radd,rsub,iadd,isub)\n",
    "\n",
    "### Representative Class methods\n",
    "- __str__(self,...) - when str() is called on an instance of your class.\n",
    "- applicable for unicode, hash, sizeof"
   ]
  },
  {
   "cell_type": "markdown",
   "metadata": {},
   "source": [
    "## Custom Containers using Classes mimicing built in data types"
   ]
  },
  {
   "cell_type": "code",
   "execution_count": 23,
   "metadata": {},
   "outputs": [],
   "source": [
    "class FunctionalList:\n",
    "    '''A class wrapping a list with some extra functional magic, like head,\n",
    "    tail, init, last, drop, and take.'''\n",
    "\n",
    "    def __init__(self, values=None):\n",
    "        if values is None:\n",
    "            self.values = []\n",
    "        else:\n",
    "            self.values = values\n",
    "\n",
    "    def __len__(self):\n",
    "        return len(self.values)\n",
    "\n",
    "    def __getitem__(self, key):\n",
    "        # if key is of invalid type or value, the list values will raise the error\n",
    "        return self.values[key]\n",
    "\n",
    "    def __setitem__(self, key, value):\n",
    "        self.values[key] = value\n",
    "\n",
    "    def __delitem__(self, key):\n",
    "        del self.values[key]\n",
    "\n",
    "    def __iter__(self):\n",
    "        return iter(self.values)\n",
    "\n",
    "    def __reversed__(self):\n",
    "        return reversed(self.values)\n",
    "\n",
    "    def append(self, value):\n",
    "        self.values.append(value)\n",
    "    def head(self):\n",
    "        # get the first element\n",
    "        return self.values[0]\n",
    "    def tail(self):\n",
    "        # get all elements after the first\n",
    "        return self.values[1:]\n",
    "    def init(self):\n",
    "        # get elements up to the last\n",
    "        return self.values[:-1]\n",
    "    def last(self):\n",
    "        # get last element\n",
    "        return self.values[-1]\n",
    "    def drop(self, n):\n",
    "        # get all elements except first n\n",
    "        return self.values[n:]\n",
    "    def take(self, n):\n",
    "        # get first n elements\n",
    "        return self.values[:n]"
   ]
  },
  {
   "cell_type": "code",
   "execution_count": 24,
   "metadata": {},
   "outputs": [
    {
     "data": {
      "text/plain": [
       "'a'"
      ]
     },
     "execution_count": 24,
     "metadata": {},
     "output_type": "execute_result"
    }
   ],
   "source": [
    "flist = FunctionalList(['a','b','c','e'])\n",
    "flist[0]"
   ]
  },
  {
   "cell_type": "markdown",
   "metadata": {},
   "source": [
    "## Node Object\n",
    "- Nodes are created by implementing a class which will hold the pointers along with the data element\n",
    "- Python equivalent of Pointers"
   ]
  },
  {
   "cell_type": "code",
   "execution_count": 25,
   "metadata": {},
   "outputs": [
    {
     "name": "stdout",
     "output_type": "stream",
     "text": [
      "Mon\n",
      "Tue\n",
      "Wed\n",
      "Thu\n"
     ]
    }
   ],
   "source": [
    "class daynames:\n",
    "    def __init__(self, dataval=None):\n",
    "        self.dataval = dataval\n",
    "        self.nextval = None\n",
    "\n",
    "e1 = daynames('Mon')\n",
    "e2 = daynames('Wed')\n",
    "e3 = daynames('Tue')\n",
    "e4 = daynames('Thu')\n",
    "\n",
    "e1.nextval = e3\n",
    "e3.nextval = e2\n",
    "e2.nextval = e4\n",
    "\n",
    "thisvalue = e1\n",
    "\n",
    "#traversing a Node\n",
    "while thisvalue:\n",
    "        print(thisvalue.dataval)\n",
    "        thisvalue = thisvalue.nextval"
   ]
  },
  {
   "cell_type": "markdown",
   "metadata": {},
   "source": [
    "# Linked List\n",
    "Each data element contains a connection to another data element in form of a pointer. Python does not have linked lists in its standard library. We implement the concept of linked lists using the concept of nodes. We create a Node object and create another class to use this ode object. We pass the appropriate values thorugh the node object to point the to the next data elements. The below program creates the linked list with three data elements. In the next section we will see how to traverse the linked list."
   ]
  },
  {
   "cell_type": "code",
   "execution_count": 26,
   "metadata": {},
   "outputs": [],
   "source": [
    "class Node:\n",
    "    def __init__(self, dataval=None):\n",
    "        self.dataval = dataval\n",
    "        self.nextval = None\n",
    "\n",
    "class SLinkedList:\n",
    "    def __init__(self):\n",
    "        self.headval = None\n",
    "\n",
    "list1 = SLinkedList()\n",
    "list1.headval = Node(\"Mon\")\n",
    "e2 = Node(\"Tue\")\n",
    "e3 = Node(\"Wed\")\n",
    "# Link first Node to second node\n",
    "list1.headval.nextval = e2\n",
    "\n",
    "# Link second Node to third node\n",
    "e2.nextval = e3"
   ]
  },
  {
   "cell_type": "code",
   "execution_count": 28,
   "metadata": {},
   "outputs": [
    {
     "data": {
      "text/plain": [
       "<__main__.SLinkedList at 0x1e77bf0c978>"
      ]
     },
     "execution_count": 28,
     "metadata": {},
     "output_type": "execute_result"
    }
   ],
   "source": [
    "list1.headval.nextval"
   ]
  },
  {
   "cell_type": "markdown",
   "metadata": {},
   "source": [
    "## Leetcode Medium Linked List Q\n",
    "https://leetcode.com/problems/add-two-numbers/"
   ]
  },
  {
   "cell_type": "code",
   "execution_count": 29,
   "metadata": {},
   "outputs": [],
   "source": [
    "#Definition for singly-linked list.\n",
    "class ListNode:\n",
    "    def __init__(self, x):\n",
    "        self.val = x\n",
    "        self.next = None"
   ]
  },
  {
   "cell_type": "code",
   "execution_count": 44,
   "metadata": {},
   "outputs": [],
   "source": [
    "#My Accepted Solution\n",
    "class Solution:\n",
    "    def addTwoNumbers(self, l1: ListNode, l2: ListNode) -> ListNode:\n",
    "        l1_list = []\n",
    "        l2_list = []\n",
    "        while l1:\n",
    "            l1_list.append(l1.val)\n",
    "            l1 = l1.next\n",
    "        while l2:\n",
    "            l2_list.append(l2.val)\n",
    "            l2 = l2.next\n",
    "        l1_list.reverse()\n",
    "        l2_list.reverse()\n",
    "        sum_tot = sum(d * 10**i for i, d in enumerate(l1_list[::-1])) + sum(d * 10**i for i, d in enumerate(l2_list[::-1]))\n",
    "        l3_list = [int(x) for x in list(str(sum_tot))]\n",
    "        l3_list.reverse()\n",
    "        res = l3 = ListNode(l3_list[0])\n",
    "        for x in l3_list[1:]:\n",
    "            l3.next = ListNode(x)\n",
    "            l3 = l3.next\n",
    "        return res"
   ]
  },
  {
   "cell_type": "code",
   "execution_count": 7,
   "metadata": {},
   "outputs": [
    {
     "name": "stdout",
     "output_type": "stream",
     "text": [
      "234\n",
      "4\n",
      "3\n",
      "2\n"
     ]
    }
   ],
   "source": [
    "x = int(input())\n",
    "while x>0:\n",
    "    rem = x%10\n",
    "    print(rem)\n",
    "    x = x//10"
   ]
  },
  {
   "cell_type": "code",
   "execution_count": null,
   "metadata": {},
   "outputs": [],
   "source": [
    "#A bit faster solution - BUT NOT CORRECT\n",
    "class Solution:\n",
    "    def addTwoNumbers(self, l1: ListNode, l2: ListNode) -> ListNode:\n",
    "        l1_no = 0\n",
    "        l2_no = 0\n",
    "        i=j=0\n",
    "        while l1:\n",
    "            l1_no =+ l1.val*(10**i)\n",
    "            l1 = l1.next\n",
    "            i=+1\n",
    "    \n",
    "        while l2:\n",
    "            l2_no =+ l2.val*(10**j)\n",
    "            l2 = l2.next\n",
    "            j=+1\n",
    "      \n",
    "        l3_no = l1_no + l2_no\n",
    "        rem = l3_no%10\n",
    "        l3_no = l3_no//10\n",
    "        res = l3 = ListNode(rem)\n",
    "        \n",
    "        while l3_no>0:\n",
    "            rem = l3_no%10\n",
    "            l3.next = ListNode(rem)\n",
    "            l3 = l3.next\n",
    "            l3_no = l3_no//10\n",
    "        return res"
   ]
  },
  {
   "cell_type": "markdown",
   "metadata": {},
   "source": [
    "### What is Enumerate?"
   ]
  },
  {
   "cell_type": "code",
   "execution_count": 12,
   "metadata": {},
   "outputs": [
    {
     "name": "stdout",
     "output_type": "stream",
     "text": [
      "0 a\n",
      "1 b\n",
      "2 c\n",
      "3 d\n"
     ]
    }
   ],
   "source": [
    "cust_list = ['a','b','c','d']\n",
    "for x,y in enumerate(cust_list): #wrt Lists\n",
    "    print(x,y)"
   ]
  },
  {
   "cell_type": "markdown",
   "metadata": {},
   "source": [
    "## Implementing Counter without collections"
   ]
  },
  {
   "cell_type": "code",
   "execution_count": 50,
   "metadata": {},
   "outputs": [],
   "source": [
    "data = [10,20,20,10,10,30,50,10,20]\n",
    "occurrences = {}\n",
    "for i in data:\n",
    "    if i in occurrences.keys():\n",
    "        occurrences[i] += 1\n",
    "    else:\n",
    "        occurrences[i] = 1"
   ]
  },
  {
   "cell_type": "code",
   "execution_count": 55,
   "metadata": {},
   "outputs": [
    {
     "name": "stdout",
     "output_type": "stream",
     "text": [
      "x- 4\n",
      "counts- 2\n",
      "x- 3\n",
      "counts- 3\n",
      "x- 1\n",
      "x- 1\n",
      "3\n"
     ]
    }
   ],
   "source": [
    "counts = 0\n",
    "for x in list(occurrences.values()):\n",
    "    print('x-',x)\n",
    "    if x>1:\n",
    "        counts += x//2\n",
    "        print('counts-',counts)\n",
    "print(int(counts))"
   ]
  },
  {
   "cell_type": "markdown",
   "metadata": {},
   "source": [
    "## Longest Common Prefix"
   ]
  },
  {
   "cell_type": "code",
   "execution_count": 10,
   "metadata": {},
   "outputs": [],
   "source": [
    "def longestCommonPrefix(strs):\n",
    "    if strs: \n",
    "        shortest_str = min(strs, key=len)\n",
    "        for i, char in enumerate(shortest_str):\n",
    "            for other in strs:\n",
    "                if other[i] != char:\n",
    "                      return shortest_str[:i]\n",
    "        return shortest_str\n",
    "    return \"\""
   ]
  },
  {
   "cell_type": "code",
   "execution_count": 13,
   "metadata": {},
   "outputs": [
    {
     "data": {
      "text/plain": [
       "''"
      ]
     },
     "execution_count": 13,
     "metadata": {},
     "output_type": "execute_result"
    }
   ],
   "source": [
    "longestCommonPrefix(['hari','bhair','charp'])"
   ]
  },
  {
   "cell_type": "code",
   "execution_count": 14,
   "metadata": {},
   "outputs": [
    {
     "data": {
      "text/plain": [
       "'ha'"
      ]
     },
     "execution_count": 14,
     "metadata": {},
     "output_type": "execute_result"
    }
   ],
   "source": [
    "longestCommonPrefix(['hari','hair','harp'])"
   ]
  },
  {
   "cell_type": "markdown",
   "metadata": {},
   "source": [
    "## Longest common substring without repetition\n",
    "https://leetcode.com/problems/longest-substring-without-repeating-characters/"
   ]
  },
  {
   "cell_type": "code",
   "execution_count": 76,
   "metadata": {},
   "outputs": [],
   "source": [
    "def lengthOfLongestSubstring(s):\n",
    "    sub = ''\n",
    "    l = 0\n",
    "    for char in s:\n",
    "        if char not in sub:\n",
    "            sub += char\n",
    "            l = max(l,len(sub))\n",
    "        else:\n",
    "            cut = sub.index(char)\n",
    "            sub = sub[cut+1:]+char\n",
    "    return (l,sub)"
   ]
  },
  {
   "cell_type": "code",
   "execution_count": 78,
   "metadata": {},
   "outputs": [
    {
     "name": "stdout",
     "output_type": "stream",
     "text": [
      "p  sub-  length- 0\n",
      "w  sub- p length- 1\n",
      "w  sub- pw length- 2\n",
      "w  sub- w length- 2\n",
      "k  sub- w length- 2\n",
      "e  sub- wk length- 2\n",
      "w  sub- wke length- 3\n"
     ]
    },
    {
     "data": {
      "text/plain": [
       "(3, 'kew')"
      ]
     },
     "execution_count": 78,
     "metadata": {},
     "output_type": "execute_result"
    }
   ],
   "source": [
    "lengthOfLongestSubstring('pwwwkew')"
   ]
  },
  {
   "cell_type": "markdown",
   "metadata": {},
   "source": [
    "### HackerRank - Rounding Grades\n",
    "https://www.hackerrank.com/challenges/grading/problem"
   ]
  },
  {
   "cell_type": "code",
   "execution_count": 40,
   "metadata": {},
   "outputs": [],
   "source": [
    "def func(x):\n",
    "    if x>=38:\n",
    "        if x%5==0:\n",
    "            return x\n",
    "        else:\n",
    "            y = x-(x//10)*10\n",
    "            if y<5:\n",
    "                if 5-y<3:\n",
    "                    return x+5-y\n",
    "                else:\n",
    "                    return x\n",
    "            elif y>5:\n",
    "                if 10-y<3:\n",
    "                    return x+10-y\n",
    "                else:\n",
    "                    return x\n",
    "    else:\n",
    "        return x"
   ]
  },
  {
   "cell_type": "markdown",
   "metadata": {},
   "source": [
    "## HackerRank - Counting Valleys"
   ]
  },
  {
   "cell_type": "code",
   "execution_count": 96,
   "metadata": {},
   "outputs": [
    {
     "name": "stdout",
     "output_type": "stream",
     "text": [
      "D  -  -1  -  -1\n",
      "D  -  -1  -  -2\n",
      "U  -  1  -  -1\n",
      "U  -  1  -  0\n",
      "U  -  1  -  1\n",
      "U  -  1  -  2\n",
      "D  -  -1  -  1\n",
      "D  -  -1  -  0\n"
     ]
    },
    {
     "data": {
      "text/plain": [
       "1"
      ]
     },
     "execution_count": 96,
     "metadata": {},
     "output_type": "execute_result"
    }
   ],
   "source": [
    "def valleycount(strr):\n",
    "    d = {'D':-1,'U':1}\n",
    "    alt = 0\n",
    "    alt_list = []\n",
    "    count = 0\n",
    "    for ind,char in enumerate(strr):\n",
    "        alt += d[char]\n",
    "        alt_list.append(alt)\n",
    "        if alt==0 and alt_list[ind-1]<0:\n",
    "            count+=1\n",
    "        print(char,' - ',d[char],' - ',alt)\n",
    "    return count\n",
    "\n",
    "#valleycount('UDDDUDUU')\n",
    "valleycount('DDUUUUDD')"
   ]
  },
  {
   "cell_type": "markdown",
   "metadata": {},
   "source": [
    "## Repeated Strings"
   ]
  },
  {
   "cell_type": "code",
   "execution_count": 51,
   "metadata": {},
   "outputs": [],
   "source": [
    "def repeatedString(s, n):\n",
    "    length = len(list(s))\n",
    "    uni_len = len(list(set(list(s))))\n",
    "    occurrences = {}\n",
    "    a_main = 0\n",
    "    for i in s:\n",
    "        if i in occurrences.keys():\n",
    "            occurrences[i] += 1\n",
    "        else:\n",
    "            occurrences[i] = 1\n",
    "    if 'a' not in list(set(list(s))):\n",
    "        return 0    \n",
    "    a_count = occurrences['a']\n",
    "    if uni_len == 1 and s[0]=='a':\n",
    "        return n\n",
    "    elif uni_len ==1 and s[0]!='a':\n",
    "        return 0\n",
    "    else:\n",
    "        a_main = (n//length)*a_count\n",
    "        rem = n%length\n",
    "        if rem==0:\n",
    "            return a_main\n",
    "        else:\n",
    "            for ele in s[:rem]:\n",
    "                if ele=='a':\n",
    "                    a_main += 1\n",
    "    return a_main"
   ]
  },
  {
   "cell_type": "code",
   "execution_count": 53,
   "metadata": {},
   "outputs": [
    {
     "data": {
      "text/plain": [
       "6"
      ]
     },
     "execution_count": 53,
     "metadata": {},
     "output_type": "execute_result"
    }
   ],
   "source": [
    "repeatedString('aacd',10)"
   ]
  },
  {
   "cell_type": "markdown",
   "metadata": {},
   "source": [
    "## InterviewBit - Add one - GOOGL and MSFT\n",
    "Given a non-negative number represented as an array of digits,add 1 to the number ( increment the number represented by the digits ).The digits are stored such that the most significant digit is at the head of the list."
   ]
  },
  {
   "cell_type": "code",
   "execution_count": 29,
   "metadata": {},
   "outputs": [],
   "source": [
    "def plusone(a):\n",
    "    return [int(x) for x in str(int(''.join(map(str,A)))+1)]\n",
    "\n",
    "# Uses Map data structure "
   ]
  },
  {
   "cell_type": "markdown",
   "metadata": {},
   "source": [
    "## Maps in Python\n",
    "\n",
    "Syntax = map(function for mapping, iterable to be mapped)"
   ]
  },
  {
   "cell_type": "code",
   "execution_count": 33,
   "metadata": {},
   "outputs": [
    {
     "data": {
      "text/plain": [
       "[1, 4, 27, 256]"
      ]
     },
     "execution_count": 33,
     "metadata": {},
     "output_type": "execute_result"
    }
   ],
   "source": [
    "def exp(a):\n",
    "    return a**a\n",
    "\n",
    "x = [1,2,3,4]\n",
    "y = list(map(exp,x))\n",
    "y"
   ]
  },
  {
   "cell_type": "code",
   "execution_count": 34,
   "metadata": {},
   "outputs": [
    {
     "ename": "NameError",
     "evalue": "name 'sqrt' is not defined",
     "output_type": "error",
     "traceback": [
      "\u001b[1;31m---------------------------------------------------------------------------\u001b[0m",
      "\u001b[1;31mNameError\u001b[0m                                 Traceback (most recent call last)",
      "\u001b[1;32m<ipython-input-34-317e033d29d5>\u001b[0m in \u001b[0;36m<module>\u001b[1;34m\u001b[0m\n\u001b[1;32m----> 1\u001b[1;33m \u001b[0msqrt\u001b[0m\u001b[1;33m(\u001b[0m\u001b[1;36m4\u001b[0m\u001b[1;33m)\u001b[0m\u001b[1;33m\u001b[0m\u001b[1;33m\u001b[0m\u001b[0m\n\u001b[0m",
      "\u001b[1;31mNameError\u001b[0m: name 'sqrt' is not defined"
     ]
    }
   ],
   "source": [
    "sqrt(4)"
   ]
  }
 ],
 "metadata": {
  "kernelspec": {
   "display_name": "Python 3",
   "language": "python",
   "name": "python3"
  },
  "language_info": {
   "codemirror_mode": {
    "name": "ipython",
    "version": 3
   },
   "file_extension": ".py",
   "mimetype": "text/x-python",
   "name": "python",
   "nbconvert_exporter": "python",
   "pygments_lexer": "ipython3",
   "version": "3.7.2"
  }
 },
 "nbformat": 4,
 "nbformat_minor": 2
}
