{
  "nbformat": 4,
  "nbformat_minor": 0,
  "metadata": {
    "kernelspec": {
      "display_name": "Python 3",
      "language": "python",
      "name": "python3"
    },
    "language_info": {
      "codemirror_mode": {
        "name": "ipython",
        "version": 3
      },
      "file_extension": ".py",
      "mimetype": "text/x-python",
      "name": "python",
      "nbconvert_exporter": "python",
      "pygments_lexer": "ipython3",
      "version": "3.7.2"
    },
    "colab": {
      "name": "Arrays - DSA.ipynb",
      "provenance": [],
      "include_colab_link": true
    }
  },
  "cells": [
    {
      "cell_type": "markdown",
      "metadata": {
        "id": "view-in-github",
        "colab_type": "text"
      },
      "source": [
        "<a href=\"https://colab.research.google.com/github/pHequals7/Python-DSA/blob/master/Arrays%20-%20DSA.ipynb\" target=\"_parent\"><img src=\"https://colab.research.google.com/assets/colab-badge.svg\" alt=\"Open In Colab\"/></a>"
      ]
    },
    {
      "cell_type": "markdown",
      "metadata": {
        "id": "fwDu_Sr-QW_4"
      },
      "source": [
        "# Arrays Questions"
      ]
    },
    {
      "cell_type": "markdown",
      "metadata": {
        "id": "EAldDpU5QW_6"
      },
      "source": [
        "### Representing Arrays"
      ]
    },
    {
      "cell_type": "code",
      "metadata": {
        "id": "zHHGHLn8QW_7",
        "outputId": "5d43ef64-46d9-43ba-fc59-dd67e8ae64c3"
      },
      "source": [
        "arr = []\n",
        "for _ in range(6):\n",
        "    arr.append(list(map(int, input().rstrip().split())))"
      ],
      "execution_count": null,
      "outputs": [
        {
          "output_type": "stream",
          "text": [
            "1 2 3\n",
            "4\n",
            "5\n",
            "2\n",
            "12\n",
            "3\n"
          ],
          "name": "stdout"
        }
      ]
    },
    {
      "cell_type": "code",
      "metadata": {
        "id": "NsDyIeFTQW_8",
        "outputId": "4321319b-65aa-4df2-d026-f3ee24ba7313"
      },
      "source": [
        "arr"
      ],
      "execution_count": null,
      "outputs": [
        {
          "output_type": "execute_result",
          "data": {
            "text/plain": [
              "[[1, 2, 3], [4], [5], [2], [12], [3]]"
            ]
          },
          "metadata": {
            "tags": []
          },
          "execution_count": 7
        }
      ]
    },
    {
      "cell_type": "markdown",
      "metadata": {
        "id": "ZRMks0EeQb8N"
      },
      "source": [
        "### 2 Sum - Leetcode"
      ]
    },
    {
      "cell_type": "code",
      "metadata": {
        "id": "3pPXCN1PQios",
        "colab": {
          "base_uri": "https://localhost:8080/"
        },
        "outputId": "5b9d3f79-8f33-4c79-d71f-6b16c76a13d0"
      },
      "source": [
        "def twosum(arr,target):\n",
        "\td = {}\n",
        "\tfor i in range(len(arr)):\n",
        "\t\td[arr[i]] = i\n",
        "\n",
        "\tfor i in range(len(arr)):\n",
        "\t\tif target - arr[i] in d and not i == d[target-arr[i]]:\n",
        "\t\t\treturn [i,d[target-arr[i]]]\n",
        "\n",
        "twosum([1,2,3,-1,-3],2)"
      ],
      "execution_count": null,
      "outputs": [
        {
          "output_type": "execute_result",
          "data": {
            "text/plain": [
              "[2, 3]"
            ]
          },
          "metadata": {
            "tags": []
          },
          "execution_count": 2
        }
      ]
    },
    {
      "cell_type": "markdown",
      "metadata": {
        "id": "teCvkzxtQW_-"
      },
      "source": [
        "### O(n) maximum difference between Two numbers in a list/array problem\n",
        "Given a stock’s price history as a sequence, and assuming that you are only allowed to make one purchase and one sale, what is the maximum profit that can be obtained? For example, given prices = (20, 18, 14, 17, 20, 21, 15), the max profit would be 7, from buying at 14 and selling at 21.\n",
        "\n",
        "Note - the second price “comes after” the first and determining the maximum difference."
      ]
    },
    {
      "cell_type": "code",
      "metadata": {
        "id": "gneHHS0HQW_-"
      },
      "source": [
        "def profit(prices):\n",
        "    max_px = 0\n",
        "    min_px = prices[0]\n",
        "    for px in prices[1:]:\n",
        "        min_px = min(min_px, px)\n",
        "        max_px = max(px - min_px, max_px)\n",
        "        print('px - ',px,' min - ',min_px,' max - ',max_px)\n",
        "    return max_px\n",
        "\n",
        "prices = [22, 18, 14, 17, 20, 21, 15] #sequential"
      ],
      "execution_count": null,
      "outputs": []
    },
    {
      "cell_type": "code",
      "metadata": {
        "id": "RIsEuQStQW__",
        "outputId": "2dc7df9b-0501-4db9-c867-fffcddb98522"
      },
      "source": [
        "profit(prices)"
      ],
      "execution_count": null,
      "outputs": [
        {
          "output_type": "stream",
          "text": [
            "px -  18  min -  18  max -  0\n",
            "px -  14  min -  14  max -  0\n",
            "px -  17  min -  14  max -  3\n",
            "px -  20  min -  14  max -  6\n",
            "px -  21  min -  14  max -  7\n",
            "px -  15  min -  14  max -  7\n"
          ],
          "name": "stdout"
        },
        {
          "output_type": "execute_result",
          "data": {
            "text/plain": [
              "7"
            ]
          },
          "metadata": {
            "tags": []
          },
          "execution_count": 2
        }
      ]
    },
    {
      "cell_type": "markdown",
      "metadata": {
        "id": "AnG4O904QW__"
      },
      "source": [
        "## Jumping on the clouds - Hackerrank"
      ]
    },
    {
      "cell_type": "code",
      "metadata": {
        "id": "IQ3oyog-QW__"
      },
      "source": [
        "def jumpingOnClouds(a):\n",
        "    count = 0\n",
        "    i=0\n",
        "    if len(a)<2:\n",
        "        return 0\n",
        "    else:\n",
        "        while i<len(a) :\n",
        "            print(i,count)\n",
        "            if i==len(a)-1:\n",
        "                break\n",
        "            if a[i]==0:\n",
        "                if i+2 <= len(a)-1 and a[i+2]==0:\n",
        "                    i +=2\n",
        "                    count +=1\n",
        "                elif i+1 <= len(a)-1 and a[i+1]==0:\n",
        "                    i +=1\n",
        "                    count +=1\n",
        "                else:\n",
        "                    i +=1\n",
        "            else:\n",
        "                i +=1\n",
        "    return count"
      ],
      "execution_count": null,
      "outputs": []
    },
    {
      "cell_type": "code",
      "metadata": {
        "id": "TqXQx-p3QXAA",
        "outputId": "9b921ae5-29ed-4cb5-d0aa-07a5e45ddd3e"
      },
      "source": [
        "a = [0,0,1,0,0,1,0]\n",
        "b = [0,0,0,0,1,0]\n",
        "c = [0,1,0,0,0,0,0,1,0,1,0,0,0,1,0,0,1,0,1,0,0,0,0,1,0,0,1,0,0,1,0,1,0,1,0,1,0,0,0,1,0,1,0,0,0,1,0,1,0,1,0,0,0,1,0,1,0,0,0,1,0,1,0,0,0,1,0,0,1,0,1,0,1,0,1,0,1,0,1,0,1,0,0,1,0,1,0,1,0,1,0,0,0,0,0,0,1,0,0,0]\n",
        "jumpingOnClouds(b)"
      ],
      "execution_count": null,
      "outputs": [
        {
          "output_type": "stream",
          "text": [
            "0 0\n",
            "2 1\n",
            "3 2\n",
            "5 3\n"
          ],
          "name": "stdout"
        },
        {
          "output_type": "execute_result",
          "data": {
            "text/plain": [
              "3"
            ]
          },
          "metadata": {
            "tags": []
          },
          "execution_count": 5
        }
      ]
    },
    {
      "cell_type": "markdown",
      "metadata": {
        "id": "5oECwBD0QXAB"
      },
      "source": [
        "## Hourglass Number Sum - Hackerrank"
      ]
    },
    {
      "cell_type": "code",
      "metadata": {
        "id": "e5S3nIg5QXAB"
      },
      "source": [
        "def hourglass(arr):\n",
        "    hg_sum = []\n",
        "    for i in range(4):\n",
        "        for j in range(4):\n",
        "#             print(i,j)\n",
        "#             print(arr[i][j])\n",
        "#             print(arr[i][j+1])\n",
        "#             print(arr[i][j+2])\n",
        "#             print(arr[i+1][j+1])\n",
        "#             print(arr[i+2][j])\n",
        "#             print(arr[i+2][j+1])\n",
        "#             print(arr[i+2][j+2])\n",
        "#             print('-----------------')\n",
        "            hg_sum.append(arr[i][j]+arr[i][j+1]+arr[i][j+2]+arr[i+1][j+1]+arr[i+2][j]+arr[i+2][j+1]+arr[i+2][j+2])\n",
        "    \n",
        "    return max(hg_sum)"
      ],
      "execution_count": null,
      "outputs": []
    },
    {
      "cell_type": "markdown",
      "metadata": {
        "id": "_v7jv7kgQXAC"
      },
      "source": [
        "## Array left rotation - Hackerrank\n",
        "#### Naive Solution - O(n<sup>2</sup>)"
      ]
    },
    {
      "cell_type": "code",
      "metadata": {
        "id": "jDT-j5x8QXAC"
      },
      "source": [
        "def rotLeft(a, d):\n",
        "    start = 0\n",
        "    end = len(a)-1\n",
        "    while start<d:\n",
        "        temp = a[0]\n",
        "        for i in range(len(a)-1):\n",
        "            a[i] = a[i+1]\n",
        "        a[end] = temp\n",
        "        print(a)\n",
        "        start += 1\n",
        "    \n",
        "    return a"
      ],
      "execution_count": null,
      "outputs": []
    },
    {
      "cell_type": "code",
      "metadata": {
        "id": "tSLJtjLoQXAC",
        "outputId": "fc407306-fafa-4a9d-dbe7-42af1ed55ad7"
      },
      "source": [
        "rotLeft([1,2,3,4,5],5)"
      ],
      "execution_count": null,
      "outputs": [
        {
          "output_type": "stream",
          "text": [
            "[2, 3, 4, 5, 1]\n",
            "[3, 4, 5, 1, 2]\n",
            "[4, 5, 1, 2, 3]\n",
            "[5, 1, 2, 3, 4]\n",
            "[1, 2, 3, 4, 5]\n"
          ],
          "name": "stdout"
        },
        {
          "output_type": "execute_result",
          "data": {
            "text/plain": [
              "[1, 2, 3, 4, 5]"
            ]
          },
          "metadata": {
            "tags": []
          },
          "execution_count": 11
        }
      ]
    },
    {
      "cell_type": "markdown",
      "metadata": {
        "id": "CcEtUJ_eQXAD"
      },
      "source": [
        "#### Optimized for time Solution - O(n) but not space"
      ]
    },
    {
      "cell_type": "code",
      "metadata": {
        "id": "4wsVhrERQXAD"
      },
      "source": [
        "def rotLeft(a, d):\n",
        "    new_arr = []\n",
        "    ops = new_arr.append\n",
        "    end = len(a)-1\n",
        "    for i in range(d,end+1):\n",
        "        ops(a[i])\n",
        "    \n",
        "    for i in range(d):\n",
        "        ops(a[i])\n",
        "    \n",
        "    \n",
        "    return new_arr"
      ],
      "execution_count": null,
      "outputs": []
    },
    {
      "cell_type": "markdown",
      "metadata": {
        "id": "w1MHRlRVQXAD"
      },
      "source": [
        "## New Year Chaos\n",
        "#### no swapping solution from HR"
      ]
    },
    {
      "cell_type": "code",
      "metadata": {
        "id": "pcxkCgohQXAD"
      },
      "source": [
        "def minbribes(q):\n",
        "    count = 0\n",
        "    for i in range(len(q)-1,-1,-1):\n",
        "        if q[i] - (i+1) > 2:\n",
        "            print(\"Too chaotic\")\n",
        "            return\n",
        "        print('i:',i,' q[i]:',q[i])\n",
        "        print('-------------------')\n",
        "        for j in range(max(0,q[i]-2),i):\n",
        "            print('j:',j,' q[j]:',q[j])\n",
        "            if q[j]>q[i]:\n",
        "                count += 1\n",
        "            print('count: ',count)\n",
        "    \n",
        "    print(count)    "
      ],
      "execution_count": null,
      "outputs": []
    },
    {
      "cell_type": "code",
      "metadata": {
        "id": "CZLk4uY2QXAE",
        "outputId": "08bb74a7-a2f6-446c-b130-80278e63111e"
      },
      "source": [
        "minbribes([1,2,5,3,7,8,6,4])\n",
        "#2,5,1,3,4\n",
        "#1,2,5,3,4,7,8,6\n",
        "#5,1,2,3,7,8,6,4\n",
        "#1,2,5,3,7,8,6,4"
      ],
      "execution_count": null,
      "outputs": [
        {
          "output_type": "stream",
          "text": [
            "i: 7  q[i]: 4\n",
            "-------------------\n",
            "j: 2  q[j]: 5\n",
            "count:  1\n",
            "j: 3  q[j]: 3\n",
            "count:  1\n",
            "j: 4  q[j]: 7\n",
            "count:  2\n",
            "j: 5  q[j]: 8\n",
            "count:  3\n",
            "j: 6  q[j]: 6\n",
            "count:  4\n",
            "i: 6  q[i]: 6\n",
            "-------------------\n",
            "j: 4  q[j]: 7\n",
            "count:  5\n",
            "j: 5  q[j]: 8\n",
            "count:  6\n",
            "i: 5  q[i]: 8\n",
            "-------------------\n",
            "i: 4  q[i]: 7\n",
            "-------------------\n",
            "i: 3  q[i]: 3\n",
            "-------------------\n",
            "j: 1  q[j]: 2\n",
            "count:  6\n",
            "j: 2  q[j]: 5\n",
            "count:  7\n",
            "i: 2  q[i]: 5\n",
            "-------------------\n",
            "i: 1  q[i]: 2\n",
            "-------------------\n",
            "j: 0  q[j]: 1\n",
            "count:  7\n",
            "i: 0  q[i]: 1\n",
            "-------------------\n",
            "7\n"
          ],
          "name": "stdout"
        }
      ]
    },
    {
      "cell_type": "markdown",
      "metadata": {
        "id": "dn-s_c_TQXAE"
      },
      "source": [
        "#### **Bubble Sort** based algo: basically counting number of swaps required to get back to original position"
      ]
    },
    {
      "cell_type": "code",
      "metadata": {
        "id": "lkei49W9QXAE"
      },
      "source": [
        "def minbribe_sort(q):\n",
        "    last = len(q)-1\n",
        "    swaps = 0\n",
        "    swaped = False\n",
        "    for ind,val in enumerate(q):\n",
        "        if val - (ind+1)>2:\n",
        "            print('Too chaotic')\n",
        "            return\n",
        "        else:\n",
        "            for j in range(0,last):\n",
        "                if q[j]>q[j+1]:\n",
        "                    q[j],q[j+1]=q[j+1],q[j]\n",
        "                    swaps +=1\n",
        "                    swaped = True\n",
        "                    print(q)\n",
        "                    print(swaps)\n",
        "                    print('----------')\n",
        "            \n",
        "            if swaped:\n",
        "                swaped = False\n",
        "            else:\n",
        "                break\n",
        "    \n",
        "    print(swaps)"
      ],
      "execution_count": null,
      "outputs": []
    },
    {
      "cell_type": "code",
      "metadata": {
        "id": "34uQvsM-QXAF",
        "outputId": "7d35a7b0-a09d-420b-8114-ee01e4d79fd8"
      },
      "source": [
        "minbribe_sort([1,2,5,3,7,8,6,4])"
      ],
      "execution_count": null,
      "outputs": [
        {
          "output_type": "stream",
          "text": [
            "[1, 2, 3, 5, 7, 8, 6, 4]\n",
            "1\n",
            "----------\n",
            "[1, 2, 3, 5, 7, 6, 8, 4]\n",
            "2\n",
            "----------\n",
            "[1, 2, 3, 5, 7, 6, 4, 8]\n",
            "3\n",
            "----------\n",
            "[1, 2, 3, 5, 6, 7, 4, 8]\n",
            "4\n",
            "----------\n",
            "[1, 2, 3, 5, 6, 4, 7, 8]\n",
            "5\n",
            "----------\n",
            "[1, 2, 3, 5, 4, 6, 7, 8]\n",
            "6\n",
            "----------\n",
            "[1, 2, 3, 4, 5, 6, 7, 8]\n",
            "7\n",
            "----------\n",
            "7\n"
          ],
          "name": "stdout"
        }
      ]
    },
    {
      "cell_type": "markdown",
      "metadata": {
        "id": "RaVCo6UMQXAF"
      },
      "source": [
        "## Minimum No of swaps to sort - Hackerrank\n",
        "#### Naive Solution - O(n<sup>2</sup>)"
      ]
    },
    {
      "cell_type": "code",
      "metadata": {
        "id": "pEOFn-KoQXAF"
      },
      "source": [
        "tst4 = [4,3,1,2]\n",
        "tst5 = [2,3,4,1,5]\n",
        "tst6 = [1,3,5,2,4,6,7]\n",
        "def minswap_max(q):\n",
        "    end = len(q)-1\n",
        "    swaps = 0\n",
        "    swaped = False\n",
        "    while end>-1:\n",
        "        maxVal = max(q[:end+1])\n",
        "        maxInd = q.index(maxVal)\n",
        "        if end!=maxInd:\n",
        "            q[end],q[maxInd] = q[maxInd],q[end]\n",
        "            swaps+=1\n",
        "            swaped = True\n",
        "            end+=-1\n",
        "        else:\n",
        "            swaped = True\n",
        "            end+=-1\n",
        "        if swaped:\n",
        "            swaped = False\n",
        "        else:\n",
        "            break\n",
        "    \n",
        "    return swaps"
      ],
      "execution_count": null,
      "outputs": []
    },
    {
      "cell_type": "code",
      "metadata": {
        "id": "wGc3hR41QXAG",
        "outputId": "784ccfe3-7fe2-464d-d5f6-f2b57e3dce61"
      },
      "source": [
        "tst = [3,7,6,9,1,8,10,4,2,5]\n",
        "tst2 = [7, 1, 3, 2, 4, 5, 6]\n",
        "tst3 = [2,31,1,38,29,5,44,6,12,18,39,9,48,49,13,11,7,27,14,33,50,21,46,23,15,26,8,47,40,3,32,22,34,42,16,41,24,10,4,28,36,30,37,35,20,17,45,43,25,19]\n",
        "minswap_max(tst5)"
      ],
      "execution_count": null,
      "outputs": [
        {
          "output_type": "execute_result",
          "data": {
            "text/plain": [
              "3"
            ]
          },
          "metadata": {
            "tags": []
          },
          "execution_count": 160
        }
      ]
    },
    {
      "cell_type": "markdown",
      "metadata": {
        "id": "mDb901FVQXAG"
      },
      "source": [
        "## Array Manipulation - Hacker Rank\n",
        "#### Naive Solution - O(n<sup>2</sup>)"
      ]
    },
    {
      "cell_type": "code",
      "metadata": {
        "id": "A5cmu0lQQXAH"
      },
      "source": [
        "def arrayman(n,m,queries):\n",
        "    arr = [0]*n\n",
        "    for i in range(m):\n",
        "        print(queries[i][0],queries[i][1])\n",
        "        for j in range(queries[i][0]-1,queries[i][1]):\n",
        "            arr[j]+=queries[i][2]\n",
        "        print(arr)\n",
        "        \n",
        "    return max(list(set(arr)))"
      ],
      "execution_count": null,
      "outputs": []
    },
    {
      "cell_type": "code",
      "metadata": {
        "id": "95PF3EsnQXAH",
        "outputId": "960353fa-ba2d-4a91-f0b8-e3498d7aa3c1"
      },
      "source": [
        "nm = input().split()\n",
        "\n",
        "n = int(nm[0])\n",
        "\n",
        "m = int(nm[1])\n",
        "\n",
        "queries = []\n",
        "\n",
        "for _ in range(m):\n",
        "    queries.append(list(map(int, input().rstrip().split())))\n",
        "\n",
        "print(optman(n,m, queries))"
      ],
      "execution_count": null,
      "outputs": [
        {
          "output_type": "stream",
          "text": [
            "5 3\n",
            "1 2 100\n",
            "2 5 100\n",
            "3 4 100\n",
            "1 2\n",
            "2 5\n",
            "3 4\n",
            "200\n"
          ],
          "name": "stdout"
        }
      ]
    },
    {
      "cell_type": "code",
      "metadata": {
        "id": "T7QqLCd9QXAH"
      },
      "source": [
        "def optman(n,m,queries):\n",
        "    array = [0] * (n + 1)\n",
        "    for query in queries: \n",
        "        a = query[0] - 1\n",
        "        b = query[1]\n",
        "        k = query[2]\n",
        "        array[a] += k\n",
        "        array[b] -= k\n",
        "        print(array)\n",
        "        \n",
        "    max_value = 0\n",
        "    running_count = 0\n",
        "    for i in array:\n",
        "        running_count += i\n",
        "        if running_count > max_value:\n",
        "            max_value = running_count\n",
        "            \n",
        "    return max_value "
      ],
      "execution_count": null,
      "outputs": []
    },
    {
      "cell_type": "code",
      "metadata": {
        "id": "EdeJIOzSQXAI"
      },
      "source": [
        ""
      ],
      "execution_count": null,
      "outputs": []
    },
    {
      "cell_type": "markdown",
      "metadata": {
        "id": "t5jCYI4aQXAI"
      },
      "source": [
        "## Largest Sum Contiguous Subarray\n",
        "### Modified Kadane's Algo applicable for all negative arrays as well"
      ]
    },
    {
      "cell_type": "code",
      "metadata": {
        "id": "Ju6ykGQjQXAI"
      },
      "source": [
        "def maxsumsubarr(arr):\n",
        "    n = len(arr)\n",
        "    max_so_far= 0\n",
        "    max_ending_here = 0\n",
        "    for i in range(n):\n",
        "        max_ending_here += arr[i]\n",
        "        if max_ending_here>max_so_far:\n",
        "            max_so_far = max_ending_here\n",
        "            print('max_so_far = ',max_so_far)\n",
        "        elif max_ending_here<0:\n",
        "            print('max_ending_here = ',max_ending_here)\n",
        "            max_ending_here = 0\n",
        "      \n",
        "    if max(arr)>=0:\n",
        "        return max_so_far\n",
        "    else:\n",
        "        return max(arr)"
      ],
      "execution_count": null,
      "outputs": []
    },
    {
      "cell_type": "code",
      "metadata": {
        "id": "q2CgXn6TQXAJ",
        "outputId": "e3576be1-3a0e-4d6c-c379-c71e89c09628"
      },
      "source": [
        "maxsumsubarr([-1,-3,-2,-4,1,-5,-5,-7,-9,1])"
      ],
      "execution_count": null,
      "outputs": [
        {
          "output_type": "stream",
          "text": [
            "max_ending_here =  -1\n",
            "max_ending_here =  -3\n",
            "max_ending_here =  -2\n",
            "max_ending_here =  -4\n",
            "max_so_far =  1\n",
            "max_ending_here =  -4\n",
            "max_ending_here =  -5\n",
            "max_ending_here =  -7\n",
            "max_ending_here =  -9\n"
          ],
          "name": "stdout"
        },
        {
          "output_type": "execute_result",
          "data": {
            "text/plain": [
              "1"
            ]
          },
          "metadata": {
            "tags": []
          },
          "execution_count": 81
        }
      ]
    },
    {
      "cell_type": "markdown",
      "metadata": {
        "id": "YlpNDMHLQXAJ"
      },
      "source": [
        "## Maximum Binary Sub-Sequence"
      ]
    },
    {
      "cell_type": "code",
      "metadata": {
        "id": "3pcYPeq4QXAJ"
      },
      "source": [
        "def binseq(n,arr):\n",
        "    max_diff = 0\n",
        "    orig_0_ct = 0\n",
        "    curr_max = 0\n",
        "    for i in range(n):\n",
        "        if arr[i]==0:\n",
        "            orig_0_ct+=1\n",
        "        val = 1 if arr[i] == 1 else -1\n",
        "        \n",
        "        curr_max = max(val, curr_max + val) \n",
        "        max_diff = max(max_diff, curr_max)\n",
        "        \n",
        "    max_diff = max(0, max_diff)\n",
        "    \n",
        "    return orig_0_ct+max_diff"
      ],
      "execution_count": null,
      "outputs": []
    },
    {
      "cell_type": "markdown",
      "metadata": {
        "id": "LkC01Q1PQXAK"
      },
      "source": [
        "## Trapping Water - Leetcode\n",
        "#### Naive Solution - O(n<sup>2</sup>)"
      ]
    },
    {
      "cell_type": "code",
      "metadata": {
        "id": "wS8uBFDpQXAK"
      },
      "source": [
        "def trap(height):\n",
        "    rs = 0\n",
        "    for i in range(1,len(height)-1):\n",
        "        if min(max(height[:i]),max(height[i+1:]))>height[i]:\n",
        "            rs+=min(max(height[:i]),max(height[i+1:]))-height[i]\n",
        "\n",
        "    return rs"
      ],
      "execution_count": null,
      "outputs": []
    },
    {
      "cell_type": "markdown",
      "metadata": {
        "id": "Rll6HV4eQXAL"
      },
      "source": [
        "#### Efficient - O(n)"
      ]
    },
    {
      "cell_type": "code",
      "metadata": {
        "id": "ziBGPwuXQXAL"
      },
      "source": [
        "def trap(height):\n",
        "    if len(height)==0:\n",
        "        return 0\n",
        "    else:\n",
        "        rs = 0\n",
        "        lmax = [0]*len(height)\n",
        "        rmax = [0]*len(height)\n",
        "        lmax[0] = height[0]\n",
        "        rmax[len(height)-1] = height[len(height)-1]\n",
        "        for i in range(1,len(height)):\n",
        "            lmax[i] = max(lmax[i-1],height[i])\n",
        "        for i in range(len(height)-2,-1,-1):\n",
        "            rmax[i] = max(rmax[i+1],height[i])    \n",
        "        for i in range(1,len(height)-1):\n",
        "            if min(lmax[i],rmax[i])>height[i]:\n",
        "                rs+=min(lmax[i],rmax[i])-height[i]\n",
        "\n",
        "        return rs"
      ],
      "execution_count": null,
      "outputs": []
    },
    {
      "cell_type": "markdown",
      "metadata": {
        "id": "Bx9dccvjQXAL"
      },
      "source": [
        "## Balanced Array - Count of Special Elements"
      ]
    },
    {
      "cell_type": "code",
      "metadata": {
        "id": "_WauXMtkQXAM"
      },
      "source": [
        "def balance(A):\n",
        "    n = len(A)\n",
        "    even = 0\n",
        "    odd = 0\n",
        "    i = 0\n",
        "    for i in range(len(A)):\n",
        "        if i%2==0:\n",
        "            odd += A[i]\n",
        "        else:\n",
        "            even += A[i]\n",
        "    ans = 0     \n",
        "    x = 0\n",
        "    y = 0\n",
        "    i = 0\n",
        "    while i<n:\n",
        "        if i%2==0:\n",
        "            odd -= A[i]\n",
        "        else:\n",
        "            even -= A[i]\n",
        "            \n",
        "        if odd+x==even+y:\n",
        "            ans += 1\n",
        "        if i%2==0:\n",
        "            y += A[i]\n",
        "        else:\n",
        "            x += A[i]\n",
        "        i += 1\n",
        "    return ans"
      ],
      "execution_count": null,
      "outputs": []
    },
    {
      "cell_type": "code",
      "metadata": {
        "id": "WDfDzgElQXAM",
        "outputId": "7316c7b5-a499-4af2-9bfd-29ddf3e604da"
      },
      "source": [
        "balance([2, 1, 6, 4])"
      ],
      "execution_count": null,
      "outputs": [
        {
          "output_type": "execute_result",
          "data": {
            "text/plain": [
              "1"
            ]
          },
          "metadata": {
            "tags": []
          },
          "execution_count": 5
        }
      ]
    },
    {
      "cell_type": "markdown",
      "metadata": {
        "id": "_N2pj6jGTWh2"
      },
      "source": [
        "## Binary Search Count Occurences - InterviewBit"
      ]
    },
    {
      "cell_type": "code",
      "metadata": {
        "id": "6h7o3ZLZTejp"
      },
      "source": [
        "def binarysearch(A,B,searchflag):\n",
        "  left = 0\n",
        "  right = len(A)-1\n",
        "  count = -1\n",
        "  \n",
        "  while left <=right:\n",
        "        mid = (left+right)//2\n",
        "        if A[mid]==B:\n",
        "            count = mid\n",
        "            if searchflag:\n",
        "                right = mid - 1 ##left half\n",
        "            else:\n",
        "                left = mid + 1\n",
        "        elif A[mid]>B:\n",
        "            right = mid-1\n",
        "        else:\n",
        "            left = mid+1\n",
        "  return count\n",
        "def findCount(A, B):\n",
        "  first = binarysearch(A,B,True)\n",
        "  last =  binarysearch(A,B,False)\n",
        "  \n",
        "  if last == first:\n",
        "    if len(A)>=1 and first==-1:\n",
        "        return 0\n",
        "    elif len(A)>=1 and first ==0:\n",
        "        return 1\n",
        "    else:\n",
        "        return 1\n",
        "  else:\n",
        "    print(last,first)\n",
        "    return last - first +1"
      ],
      "execution_count": 12,
      "outputs": []
    },
    {
      "cell_type": "code",
      "metadata": {
        "colab": {
          "base_uri": "https://localhost:8080/"
        },
        "id": "15otlD20TqiV",
        "outputId": "c17f3627-29d2-4238-8535-66c804c31e88"
      },
      "source": [
        "findCount([1,2,2,3,5,7],2)"
      ],
      "execution_count": 13,
      "outputs": [
        {
          "output_type": "stream",
          "text": [
            "2 1\n"
          ],
          "name": "stdout"
        },
        {
          "output_type": "execute_result",
          "data": {
            "text/plain": [
              "2"
            ]
          },
          "metadata": {},
          "execution_count": 13
        }
      ]
    },
    {
      "cell_type": "code",
      "metadata": {
        "id": "2lD_3GhPUF4B"
      },
      "source": [
        ""
      ],
      "execution_count": null,
      "outputs": []
    }
  ]
}