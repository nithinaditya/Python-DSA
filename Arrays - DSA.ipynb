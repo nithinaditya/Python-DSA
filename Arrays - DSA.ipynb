{
 "cells": [
  {
   "cell_type": "markdown",
   "metadata": {},
   "source": [
    "# Arrays Questions"
   ]
  },
  {
   "cell_type": "markdown",
   "metadata": {},
   "source": [
    "### Representing Arrays"
   ]
  },
  {
   "cell_type": "code",
   "execution_count": 6,
   "metadata": {},
   "outputs": [
    {
     "name": "stdout",
     "output_type": "stream",
     "text": [
      "1 2 3\n",
      "4\n",
      "5\n",
      "2\n",
      "12\n",
      "3\n"
     ]
    }
   ],
   "source": [
    "arr = []\n",
    "for _ in range(6):\n",
    "    arr.append(list(map(int, input().rstrip().split())))"
   ]
  },
  {
   "cell_type": "code",
   "execution_count": 7,
   "metadata": {},
   "outputs": [
    {
     "data": {
      "text/plain": [
       "[[1, 2, 3], [4], [5], [2], [12], [3]]"
      ]
     },
     "execution_count": 7,
     "metadata": {},
     "output_type": "execute_result"
    }
   ],
   "source": [
    "arr"
   ]
  },
  {
   "cell_type": "markdown",
   "metadata": {},
   "source": [
    "### O(n) maximum difference between Two numbers in a list/array problem\n",
    "Given a stock’s price history as a sequence, and assuming that you are only allowed to make one purchase and one sale, what is the maximum profit that can be obtained? For example, given prices = (20, 18, 14, 17, 20, 21, 15), the max profit would be 7, from buying at 14 and selling at 21.\n",
    "\n",
    "Note - the second price “comes after” the first and determining the maximum difference."
   ]
  },
  {
   "cell_type": "code",
   "execution_count": 1,
   "metadata": {},
   "outputs": [],
   "source": [
    "def profit(prices):\n",
    "    max_px = 0\n",
    "    min_px = prices[0]\n",
    "    for px in prices[1:]:\n",
    "        min_px = min(min_px, px)\n",
    "        max_px = max(px - min_px, max_px)\n",
    "        print('px - ',px,' min - ',min_px,' max - ',max_px)\n",
    "    return max_px\n",
    "\n",
    "prices = [22, 18, 14, 17, 20, 21, 15] #sequential"
   ]
  },
  {
   "cell_type": "code",
   "execution_count": 2,
   "metadata": {},
   "outputs": [
    {
     "name": "stdout",
     "output_type": "stream",
     "text": [
      "px -  18  min -  18  max -  0\n",
      "px -  14  min -  14  max -  0\n",
      "px -  17  min -  14  max -  3\n",
      "px -  20  min -  14  max -  6\n",
      "px -  21  min -  14  max -  7\n",
      "px -  15  min -  14  max -  7\n"
     ]
    },
    {
     "data": {
      "text/plain": [
       "7"
      ]
     },
     "execution_count": 2,
     "metadata": {},
     "output_type": "execute_result"
    }
   ],
   "source": [
    "profit(prices)"
   ]
  },
  {
   "cell_type": "markdown",
   "metadata": {},
   "source": [
    "## Jumping on the clouds - Hackerrank"
   ]
  },
  {
   "cell_type": "code",
   "execution_count": 3,
   "metadata": {},
   "outputs": [],
   "source": [
    "def jumpingOnClouds(a):\n",
    "    count = 0\n",
    "    i=0\n",
    "    if len(a)<2:\n",
    "        return 0\n",
    "    else:\n",
    "        while i<len(a) :\n",
    "            print(i,count)\n",
    "            if i==len(a)-1:\n",
    "                break\n",
    "            if a[i]==0:\n",
    "                if i+2 <= len(a)-1 and a[i+2]==0:\n",
    "                    i +=2\n",
    "                    count +=1\n",
    "                elif i+1 <= len(a)-1 and a[i+1]==0:\n",
    "                    i +=1\n",
    "                    count +=1\n",
    "                else:\n",
    "                    i +=1\n",
    "            else:\n",
    "                i +=1\n",
    "    return count"
   ]
  },
  {
   "cell_type": "code",
   "execution_count": 5,
   "metadata": {},
   "outputs": [
    {
     "name": "stdout",
     "output_type": "stream",
     "text": [
      "0 0\n",
      "2 1\n",
      "3 2\n",
      "5 3\n"
     ]
    },
    {
     "data": {
      "text/plain": [
       "3"
      ]
     },
     "execution_count": 5,
     "metadata": {},
     "output_type": "execute_result"
    }
   ],
   "source": [
    "a = [0,0,1,0,0,1,0]\n",
    "b = [0,0,0,0,1,0]\n",
    "c = [0,1,0,0,0,0,0,1,0,1,0,0,0,1,0,0,1,0,1,0,0,0,0,1,0,0,1,0,0,1,0,1,0,1,0,1,0,0,0,1,0,1,0,0,0,1,0,1,0,1,0,0,0,1,0,1,0,0,0,1,0,1,0,0,0,1,0,0,1,0,1,0,1,0,1,0,1,0,1,0,1,0,0,1,0,1,0,1,0,1,0,0,0,0,0,0,1,0,0,0]\n",
    "jumpingOnClouds(b)"
   ]
  },
  {
   "cell_type": "markdown",
   "metadata": {},
   "source": [
    "## Hourglass Number Sum - Hackerrank"
   ]
  },
  {
   "cell_type": "code",
   "execution_count": 9,
   "metadata": {},
   "outputs": [],
   "source": [
    "def hourglass(arr):\n",
    "    hg_sum = []\n",
    "    for i in range(4):\n",
    "        for j in range(4):\n",
    "#             print(i,j)\n",
    "#             print(arr[i][j])\n",
    "#             print(arr[i][j+1])\n",
    "#             print(arr[i][j+2])\n",
    "#             print(arr[i+1][j+1])\n",
    "#             print(arr[i+2][j])\n",
    "#             print(arr[i+2][j+1])\n",
    "#             print(arr[i+2][j+2])\n",
    "#             print('-----------------')\n",
    "            hg_sum.append(arr[i][j]+arr[i][j+1]+arr[i][j+2]+arr[i+1][j+1]+arr[i+2][j]+arr[i+2][j+1]+arr[i+2][j+2])\n",
    "    \n",
    "    return max(hg_sum)"
   ]
  },
  {
   "cell_type": "markdown",
   "metadata": {},
   "source": [
    "## Array left rotation - Hackerrank\n",
    "#### Naive Solution - O(n<sup>2</sup>)"
   ]
  },
  {
   "cell_type": "code",
   "execution_count": 10,
   "metadata": {},
   "outputs": [],
   "source": [
    "def rotLeft(a, d):\n",
    "    start = 0\n",
    "    end = len(a)-1\n",
    "    while start<d:\n",
    "        temp = a[0]\n",
    "        for i in range(len(a)-1):\n",
    "            a[i] = a[i+1]\n",
    "        a[end] = temp\n",
    "        print(a)\n",
    "        start += 1\n",
    "    \n",
    "    return a"
   ]
  },
  {
   "cell_type": "code",
   "execution_count": 11,
   "metadata": {},
   "outputs": [
    {
     "name": "stdout",
     "output_type": "stream",
     "text": [
      "[2, 3, 4, 5, 1]\n",
      "[3, 4, 5, 1, 2]\n",
      "[4, 5, 1, 2, 3]\n",
      "[5, 1, 2, 3, 4]\n",
      "[1, 2, 3, 4, 5]\n"
     ]
    },
    {
     "data": {
      "text/plain": [
       "[1, 2, 3, 4, 5]"
      ]
     },
     "execution_count": 11,
     "metadata": {},
     "output_type": "execute_result"
    }
   ],
   "source": [
    "rotLeft([1,2,3,4,5],5)"
   ]
  },
  {
   "cell_type": "markdown",
   "metadata": {},
   "source": [
    "#### Optimized for time Solution - O(n) but not space"
   ]
  },
  {
   "cell_type": "code",
   "execution_count": 12,
   "metadata": {},
   "outputs": [],
   "source": [
    "def rotLeft(a, d):\n",
    "    new_arr = []\n",
    "    ops = new_arr.append\n",
    "    end = len(a)-1\n",
    "    for i in range(d,end+1):\n",
    "        ops(a[i])\n",
    "    \n",
    "    for i in range(d):\n",
    "        ops(a[i])\n",
    "    \n",
    "    \n",
    "    return new_arr"
   ]
  },
  {
   "cell_type": "markdown",
   "metadata": {},
   "source": [
    "## New Year Chaos\n",
    "#### no swapping solution from HR"
   ]
  },
  {
   "cell_type": "code",
   "execution_count": 13,
   "metadata": {},
   "outputs": [],
   "source": [
    "def minbribes(q):\n",
    "    count = 0\n",
    "    for i in range(len(q)-1,-1,-1):\n",
    "        if q[i] - (i+1) > 2:\n",
    "            print(\"Too chaotic\")\n",
    "            return\n",
    "        print('i:',i,' q[i]:',q[i])\n",
    "        print('-------------------')\n",
    "        for j in range(max(0,q[i]-2),i):\n",
    "            print('j:',j,' q[j]:',q[j])\n",
    "            if q[j]>q[i]:\n",
    "                count += 1\n",
    "            print('count: ',count)\n",
    "    \n",
    "    print(count)    "
   ]
  },
  {
   "cell_type": "code",
   "execution_count": 14,
   "metadata": {},
   "outputs": [
    {
     "name": "stdout",
     "output_type": "stream",
     "text": [
      "i: 7  q[i]: 4\n",
      "-------------------\n",
      "j: 2  q[j]: 5\n",
      "count:  1\n",
      "j: 3  q[j]: 3\n",
      "count:  1\n",
      "j: 4  q[j]: 7\n",
      "count:  2\n",
      "j: 5  q[j]: 8\n",
      "count:  3\n",
      "j: 6  q[j]: 6\n",
      "count:  4\n",
      "i: 6  q[i]: 6\n",
      "-------------------\n",
      "j: 4  q[j]: 7\n",
      "count:  5\n",
      "j: 5  q[j]: 8\n",
      "count:  6\n",
      "i: 5  q[i]: 8\n",
      "-------------------\n",
      "i: 4  q[i]: 7\n",
      "-------------------\n",
      "i: 3  q[i]: 3\n",
      "-------------------\n",
      "j: 1  q[j]: 2\n",
      "count:  6\n",
      "j: 2  q[j]: 5\n",
      "count:  7\n",
      "i: 2  q[i]: 5\n",
      "-------------------\n",
      "i: 1  q[i]: 2\n",
      "-------------------\n",
      "j: 0  q[j]: 1\n",
      "count:  7\n",
      "i: 0  q[i]: 1\n",
      "-------------------\n",
      "7\n"
     ]
    }
   ],
   "source": [
    "minbribes([1,2,5,3,7,8,6,4])\n",
    "#2,5,1,3,4\n",
    "#1,2,5,3,4,7,8,6\n",
    "#5,1,2,3,7,8,6,4\n",
    "#1,2,5,3,7,8,6,4"
   ]
  },
  {
   "cell_type": "markdown",
   "metadata": {},
   "source": [
    "#### **Bubble Sort** based algo: basically counting number of swaps required to get back to original position"
   ]
  },
  {
   "cell_type": "code",
   "execution_count": 15,
   "metadata": {},
   "outputs": [],
   "source": [
    "def minbribe_sort(q):\n",
    "    last = len(q)-1\n",
    "    swaps = 0\n",
    "    swaped = False\n",
    "    for ind,val in enumerate(q):\n",
    "        if val - (ind+1)>2:\n",
    "            print('Too chaotic')\n",
    "            return\n",
    "        else:\n",
    "            for j in range(0,last):\n",
    "                if q[j]>q[j+1]:\n",
    "                    q[j],q[j+1]=q[j+1],q[j]\n",
    "                    swaps +=1\n",
    "                    swaped = True\n",
    "                    print(q)\n",
    "                    print(swaps)\n",
    "                    print('----------')\n",
    "            \n",
    "            if swaped:\n",
    "                swaped = False\n",
    "            else:\n",
    "                break\n",
    "    \n",
    "    print(swaps)"
   ]
  },
  {
   "cell_type": "code",
   "execution_count": 16,
   "metadata": {},
   "outputs": [
    {
     "name": "stdout",
     "output_type": "stream",
     "text": [
      "[1, 2, 3, 5, 7, 8, 6, 4]\n",
      "1\n",
      "----------\n",
      "[1, 2, 3, 5, 7, 6, 8, 4]\n",
      "2\n",
      "----------\n",
      "[1, 2, 3, 5, 7, 6, 4, 8]\n",
      "3\n",
      "----------\n",
      "[1, 2, 3, 5, 6, 7, 4, 8]\n",
      "4\n",
      "----------\n",
      "[1, 2, 3, 5, 6, 4, 7, 8]\n",
      "5\n",
      "----------\n",
      "[1, 2, 3, 5, 4, 6, 7, 8]\n",
      "6\n",
      "----------\n",
      "[1, 2, 3, 4, 5, 6, 7, 8]\n",
      "7\n",
      "----------\n",
      "7\n"
     ]
    }
   ],
   "source": [
    "minbribe_sort([1,2,5,3,7,8,6,4])"
   ]
  },
  {
   "cell_type": "markdown",
   "metadata": {},
   "source": [
    "## Minimum No of swaps to sort - Hackerrank\n",
    "#### Naive Solution - O(n<sup>2</sup>)"
   ]
  },
  {
   "cell_type": "code",
   "execution_count": 161,
   "metadata": {},
   "outputs": [],
   "source": [
    "tst4 = [4,3,1,2]\n",
    "tst5 = [2,3,4,1,5]\n",
    "tst6 = [1,3,5,2,4,6,7]\n",
    "def minswap_max(q):\n",
    "    end = len(q)-1\n",
    "    swaps = 0\n",
    "    swaped = False\n",
    "    while end>-1:\n",
    "        maxVal = max(q[:end+1])\n",
    "        maxInd = q.index(maxVal)\n",
    "        if end!=maxInd:\n",
    "            q[end],q[maxInd] = q[maxInd],q[end]\n",
    "            swaps+=1\n",
    "            swaped = True\n",
    "            end+=-1\n",
    "        else:\n",
    "            swaped = True\n",
    "            end+=-1\n",
    "        if swaped:\n",
    "            swaped = False\n",
    "        else:\n",
    "            break\n",
    "    \n",
    "    return swaps"
   ]
  },
  {
   "cell_type": "code",
   "execution_count": 160,
   "metadata": {},
   "outputs": [
    {
     "data": {
      "text/plain": [
       "3"
      ]
     },
     "execution_count": 160,
     "metadata": {},
     "output_type": "execute_result"
    }
   ],
   "source": [
    "tst = [3,7,6,9,1,8,10,4,2,5]\n",
    "tst2 = [7, 1, 3, 2, 4, 5, 6]\n",
    "tst3 = [2,31,1,38,29,5,44,6,12,18,39,9,48,49,13,11,7,27,14,33,50,21,46,23,15,26,8,47,40,3,32,22,34,42,16,41,24,10,4,28,36,30,37,35,20,17,45,43,25,19]\n",
    "minswap_max(tst5)"
   ]
  },
  {
   "cell_type": "markdown",
   "metadata": {},
   "source": [
    "## Array Manipulation - Hacker Rank\n",
    "#### Naive Solution - O(n<sup>2</sup>)"
   ]
  },
  {
   "cell_type": "code",
   "execution_count": 52,
   "metadata": {},
   "outputs": [],
   "source": [
    "def arrayman(n,m,queries):\n",
    "    arr = [0]*n\n",
    "    for i in range(m):\n",
    "        print(queries[i][0],queries[i][1])\n",
    "        for j in range(queries[i][0]-1,queries[i][1]):\n",
    "            arr[j]+=queries[i][2]\n",
    "        print(arr)\n",
    "        \n",
    "    return max(list(set(arr)))"
   ]
  },
  {
   "cell_type": "code",
   "execution_count": 59,
   "metadata": {},
   "outputs": [
    {
     "name": "stdout",
     "output_type": "stream",
     "text": [
      "5 3\n",
      "1 2 100\n",
      "2 5 100\n",
      "3 4 100\n",
      "1 2\n",
      "2 5\n",
      "3 4\n",
      "200\n"
     ]
    }
   ],
   "source": [
    "nm = input().split()\n",
    "\n",
    "n = int(nm[0])\n",
    "\n",
    "m = int(nm[1])\n",
    "\n",
    "queries = []\n",
    "\n",
    "for _ in range(m):\n",
    "    queries.append(list(map(int, input().rstrip().split())))\n",
    "\n",
    "print(optman(n,m, queries))"
   ]
  },
  {
   "cell_type": "code",
   "execution_count": 60,
   "metadata": {},
   "outputs": [],
   "source": [
    "def optman(n,m,queries):\n",
    "    array = [0] * (n + 1)\n",
    "    for query in queries: \n",
    "        a = query[0] - 1\n",
    "        b = query[1]\n",
    "        k = query[2]\n",
    "        array[a] += k\n",
    "        array[b] -= k\n",
    "        print(array)\n",
    "        \n",
    "    max_value = 0\n",
    "    running_count = 0\n",
    "    for i in array:\n",
    "        running_count += i\n",
    "        if running_count > max_value:\n",
    "            max_value = running_count\n",
    "            \n",
    "    return max_value "
   ]
  },
  {
   "cell_type": "code",
   "execution_count": null,
   "metadata": {},
   "outputs": [],
   "source": []
  },
  {
   "cell_type": "markdown",
   "metadata": {},
   "source": [
    "## Largest Sum Contiguous Subarray\n",
    "### Modified Kadane's Algo applicable for all negative arrays as well"
   ]
  },
  {
   "cell_type": "code",
   "execution_count": 78,
   "metadata": {},
   "outputs": [],
   "source": [
    "def maxsumsubarr(arr):\n",
    "    n = len(arr)\n",
    "    max_so_far= 0\n",
    "    max_ending_here = 0\n",
    "    for i in range(n):\n",
    "        max_ending_here += arr[i]\n",
    "        if max_ending_here>max_so_far:\n",
    "            max_so_far = max_ending_here\n",
    "            print('max_so_far = ',max_so_far)\n",
    "        elif max_ending_here<0:\n",
    "            print('max_ending_here = ',max_ending_here)\n",
    "            max_ending_here = 0\n",
    "      \n",
    "    if max(arr)>=0:\n",
    "        return max_so_far\n",
    "    else:\n",
    "        return max(arr)"
   ]
  },
  {
   "cell_type": "code",
   "execution_count": 81,
   "metadata": {},
   "outputs": [
    {
     "name": "stdout",
     "output_type": "stream",
     "text": [
      "max_ending_here =  -1\n",
      "max_ending_here =  -3\n",
      "max_ending_here =  -2\n",
      "max_ending_here =  -4\n",
      "max_so_far =  1\n",
      "max_ending_here =  -4\n",
      "max_ending_here =  -5\n",
      "max_ending_here =  -7\n",
      "max_ending_here =  -9\n"
     ]
    },
    {
     "data": {
      "text/plain": [
       "1"
      ]
     },
     "execution_count": 81,
     "metadata": {},
     "output_type": "execute_result"
    }
   ],
   "source": [
    "maxsumsubarr([-1,-3,-2,-4,1,-5,-5,-7,-9,1])"
   ]
  },
  {
   "cell_type": "markdown",
   "metadata": {},
   "source": [
    "## Maximum Binary Sub-Sequence"
   ]
  },
  {
   "cell_type": "code",
   "execution_count": 36,
   "metadata": {},
   "outputs": [],
   "source": [
    "def binseq(n,arr):\n",
    "    max_diff = 0\n",
    "    orig_0_ct = 0\n",
    "    curr_max = 0\n",
    "    for i in range(n):\n",
    "        if arr[i]==0:\n",
    "            orig_0_ct+=1\n",
    "        val = 1 if arr[i] == 1 else -1\n",
    "        \n",
    "        curr_max = max(val, curr_max + val) \n",
    "        max_diff = max(max_diff, curr_max)\n",
    "        \n",
    "    max_diff = max(0, max_diff)\n",
    "    \n",
    "    return orig_0_ct+max_diff"
   ]
  },
  {
   "cell_type": "markdown",
   "metadata": {},
   "source": [
    "## Trapping Water - Leetcode\n",
    "#### Naive Solution - O(n<sup>2</sup>)"
   ]
  },
  {
   "cell_type": "code",
   "execution_count": 3,
   "metadata": {},
   "outputs": [],
   "source": [
    "def trap(height):\n",
    "    rs = 0\n",
    "    for i in range(1,len(height)-1):\n",
    "        if min(max(height[:i]),max(height[i+1:]))>height[i]:\n",
    "            rs+=min(max(height[:i]),max(height[i+1:]))-height[i]\n",
    "\n",
    "    return rs"
   ]
  },
  {
   "cell_type": "markdown",
   "metadata": {},
   "source": [
    "#### Efficient - O(n)"
   ]
  },
  {
   "cell_type": "code",
   "execution_count": 12,
   "metadata": {},
   "outputs": [],
   "source": [
    "def trap(height):\n",
    "    if len(height)==0:\n",
    "        return 0\n",
    "    else:\n",
    "        rs = 0\n",
    "        lmax = [0]*len(height)\n",
    "        rmax = [0]*len(height)\n",
    "        lmax[0] = height[0]\n",
    "        rmax[len(height)-1] = height[len(height)-1]\n",
    "        for i in range(1,len(height)):\n",
    "            lmax[i] = max(lmax[i-1],height[i])\n",
    "        for i in range(len(height)-2,-1,-1):\n",
    "            rmax[i] = max(rmax[i+1],height[i])    \n",
    "        for i in range(1,len(height)-1):\n",
    "            if min(lmax[i],rmax[i])>height[i]:\n",
    "                rs+=min(lmax[i],rmax[i])-height[i]\n",
    "\n",
    "        return rs"
   ]
  },
  {
   "cell_type": "markdown",
   "metadata": {},
   "source": [
    "## Balanced Array - Count of Special Elements"
   ]
  },
  {
   "cell_type": "code",
   "execution_count": 4,
   "metadata": {},
   "outputs": [],
   "source": [
    "def balance(A):\n",
    "    n = len(A)\n",
    "    even = 0\n",
    "    odd = 0\n",
    "    i = 0\n",
    "    for i in range(len(A)):\n",
    "        if i%2==0:\n",
    "            odd += A[i]\n",
    "        else:\n",
    "            even += A[i]\n",
    "    ans = 0     \n",
    "    x = 0\n",
    "    y = 0\n",
    "    i = 0\n",
    "    while i<n:\n",
    "        if i%2==0:\n",
    "            odd -= A[i]\n",
    "        else:\n",
    "            even -= A[i]\n",
    "            \n",
    "        if odd+x==even+y:\n",
    "            ans += 1\n",
    "        if i%2==0:\n",
    "            y += A[i]\n",
    "        else:\n",
    "            x += A[i]\n",
    "        i += 1\n",
    "    return ans"
   ]
  },
  {
   "cell_type": "code",
   "execution_count": 5,
   "metadata": {},
   "outputs": [
    {
     "data": {
      "text/plain": [
       "1"
      ]
     },
     "execution_count": 5,
     "metadata": {},
     "output_type": "execute_result"
    }
   ],
   "source": [
    "balance([2, 1, 6, 4])"
   ]
  }
 ],
 "metadata": {
  "kernelspec": {
   "display_name": "Python 3",
   "language": "python",
   "name": "python3"
  },
  "language_info": {
   "codemirror_mode": {
    "name": "ipython",
    "version": 3
   },
   "file_extension": ".py",
   "mimetype": "text/x-python",
   "name": "python",
   "nbconvert_exporter": "python",
   "pygments_lexer": "ipython3",
   "version": "3.7.2"
  }
 },
 "nbformat": 4,
 "nbformat_minor": 2
}
