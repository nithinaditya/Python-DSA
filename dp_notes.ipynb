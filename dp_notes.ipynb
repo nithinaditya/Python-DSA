{
  "nbformat": 4,
  "nbformat_minor": 0,
  "metadata": {
    "colab": {
      "provenance": [],
      "authorship_tag": "ABX9TyNyFaWaOylzNVVpwQ8fAzJR",
      "include_colab_link": true
    },
    "kernelspec": {
      "name": "python3",
      "display_name": "Python 3"
    },
    "language_info": {
      "name": "python"
    }
  },
  "cells": [
    {
      "cell_type": "markdown",
      "metadata": {
        "id": "view-in-github",
        "colab_type": "text"
      },
      "source": [
        "<a href=\"https://colab.research.google.com/github/nithinaditya/Python-DSA/blob/master/dp_notes.ipynb\" target=\"_parent\"><img src=\"https://colab.research.google.com/assets/colab-badge.svg\" alt=\"Open In Colab\"/></a>"
      ]
    },
    {
      "cell_type": "code",
      "execution_count": 8,
      "metadata": {
        "id": "zzobifWb0nF5"
      },
      "outputs": [],
      "source": [
        "#fib memoization\n",
        "\n",
        "def fib(n, memo = {}):\n",
        "  if n in memo: return memo[n]\n",
        "  if(n <= 2): return 1\n",
        "  memo[n] = fib(n-1, memo) + fib(n-2, memo)\n",
        "  print(memo)\n",
        "  return memo[n]\n",
        "#O(n) = 2^n"
      ]
    },
    {
      "cell_type": "code",
      "source": [
        "#memoization\n",
        "fib(7)"
      ],
      "metadata": {
        "colab": {
          "base_uri": "https://localhost:8080/"
        },
        "id": "dSimx7La20KM",
        "outputId": "5737cd29-5b9c-4c58-96c2-d6e3dbd8ad08"
      },
      "execution_count": 9,
      "outputs": [
        {
          "output_type": "stream",
          "name": "stdout",
          "text": [
            "{3: 2}\n",
            "{3: 2, 4: 3}\n",
            "{3: 2, 4: 3, 5: 5}\n",
            "{3: 2, 4: 3, 5: 5, 6: 8}\n",
            "{3: 2, 4: 3, 5: 5, 6: 8, 7: 13}\n"
          ]
        },
        {
          "output_type": "execute_result",
          "data": {
            "text/plain": [
              "13"
            ]
          },
          "metadata": {},
          "execution_count": 9
        }
      ]
    },
    {
      "cell_type": "code",
      "source": [],
      "metadata": {
        "id": "abiXH1Js5GNr"
      },
      "execution_count": null,
      "outputs": []
    }
  ]
}