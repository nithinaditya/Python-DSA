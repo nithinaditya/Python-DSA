{
  "nbformat": 4,
  "nbformat_minor": 0,
  "metadata": {
    "colab": {
      "provenance": [],
      "authorship_tag": "ABX9TyOoxQPRjMR8crFd4ka1d5iK",
      "include_colab_link": true
    },
    "kernelspec": {
      "name": "python3",
      "display_name": "Python 3"
    },
    "language_info": {
      "name": "python"
    }
  },
  "cells": [
    {
      "cell_type": "markdown",
      "metadata": {
        "id": "view-in-github",
        "colab_type": "text"
      },
      "source": [
        "<a href=\"https://colab.research.google.com/github/nithinaditya/Python-DSA/blob/master/dp_notes.ipynb\" target=\"_parent\"><img src=\"https://colab.research.google.com/assets/colab-badge.svg\" alt=\"Open In Colab\"/></a>"
      ]
    },
    {
      "cell_type": "code",
      "execution_count": 1,
      "metadata": {
        "id": "zzobifWb0nF5"
      },
      "outputs": [],
      "source": [
        "#fib memoization\n",
        "\n",
        "def fib(n):\n",
        "  if(n <= 2): return 1\n",
        "  return fib(n-1) + fib(n-2)\n",
        "\n",
        "#O(n) = 2^n"
      ]
    },
    {
      "cell_type": "code",
      "source": [],
      "metadata": {
        "id": "dSimx7La20KM"
      },
      "execution_count": null,
      "outputs": []
    }
  ]
}