{
 "cells": [
  {
   "cell_type": "markdown",
   "metadata": {},
   "source": [
    "# Sorting"
   ]
  },
  {
   "cell_type": "markdown",
   "metadata": {},
   "source": [
    "## Bubble Sort\n",
    "#### O(n<sup>2</sup>) - any case"
   ]
  },
  {
   "cell_type": "code",
   "execution_count": 9,
   "metadata": {},
   "outputs": [],
   "source": [
    "def bubblesort(a):\n",
    "    n = len(a)\n",
    "    for i in range(n):\n",
    "        for j in range(n-i-1):\n",
    "            if a[j]>a[j+1]:\n",
    "                a[j],a[j+1] = a[j+1],a[j]\n",
    "                print('within nested loop',a)\n",
    "        print('----------')\n",
    "        print(a)\n",
    "    \n",
    "    return a"
   ]
  },
  {
   "cell_type": "code",
   "execution_count": 10,
   "metadata": {},
   "outputs": [
    {
     "name": "stdout",
     "output_type": "stream",
     "text": [
      "within nested loop [1, 2, 4, 3]\n",
      "within nested loop [1, 2, 3, 4]\n",
      "----------\n",
      "[1, 2, 3, 4]\n",
      "----------\n",
      "[1, 2, 3, 4]\n",
      "----------\n",
      "[1, 2, 3, 4]\n",
      "----------\n",
      "[1, 2, 3, 4]\n"
     ]
    },
    {
     "data": {
      "text/plain": [
       "[1, 2, 3, 4]"
      ]
     },
     "execution_count": 10,
     "metadata": {},
     "output_type": "execute_result"
    }
   ],
   "source": [
    "bubblesort([1,4,2,3])"
   ]
  },
  {
   "cell_type": "markdown",
   "metadata": {},
   "source": [
    "## Modified Bubble Sort - swaped flag\n",
    "More efficient than vanilla bubble-sort since it reduces the number of iterations once the array is completely sorted"
   ]
  },
  {
   "cell_type": "code",
   "execution_count": 11,
   "metadata": {},
   "outputs": [],
   "source": [
    "def mod_bubblesort(a):\n",
    "    n = len(a)\n",
    "    swaped = False\n",
    "    for i in range(n):\n",
    "        for j in range(n-i-1):\n",
    "            if a[j]>a[j+1]:\n",
    "                a[j],a[j+1] = a[j+1],a[j]\n",
    "                swaped = True\n",
    "                print('within nested loop',a)\n",
    "        if swaped:\n",
    "            swaped = False\n",
    "        else:\n",
    "            break\n",
    "        print('----------')\n",
    "        print(a)\n",
    "    \n",
    "    return a"
   ]
  },
  {
   "cell_type": "code",
   "execution_count": 12,
   "metadata": {},
   "outputs": [
    {
     "name": "stdout",
     "output_type": "stream",
     "text": [
      "within nested loop [1, 2, 4, 3]\n",
      "within nested loop [1, 2, 3, 4]\n",
      "----------\n",
      "[1, 2, 3, 4]\n"
     ]
    },
    {
     "data": {
      "text/plain": [
       "[1, 2, 3, 4]"
      ]
     },
     "execution_count": 12,
     "metadata": {},
     "output_type": "execute_result"
    }
   ],
   "source": [
    "mod_bubblesort([1,4,2,3])"
   ]
  },
  {
   "cell_type": "markdown",
   "metadata": {},
   "source": [
    "## Insertion Sort\n",
    "#### O(n<sup>2</sup>) - worst case\n",
    "**Good for cases where array is already sorted to an extent**"
   ]
  },
  {
   "cell_type": "code",
   "execution_count": 1,
   "metadata": {},
   "outputs": [],
   "source": [
    "def insert_sort(a):\n",
    "    n = len(a)\n",
    "    for i in range(1,n):\n",
    "        curr = a[i]\n",
    "        j = i\n",
    "        while j>0 and a[j-1]>curr:\n",
    "            a[j] = a[j-1]\n",
    "            j +=-1\n",
    "            print('curr - ',curr,'within nested loop',a)\n",
    "        a[j] = curr\n",
    "        print('--------')\n",
    "        print(a)\n",
    "    \n",
    "    return a"
   ]
  },
  {
   "cell_type": "code",
   "execution_count": 2,
   "metadata": {},
   "outputs": [
    {
     "name": "stdout",
     "output_type": "stream",
     "text": [
      "curr -  2 within nested loop [6, 6, 5, 4, 7, 1]\n",
      "--------\n",
      "[2, 6, 5, 4, 7, 1]\n",
      "curr -  5 within nested loop [2, 6, 6, 4, 7, 1]\n",
      "--------\n",
      "[2, 5, 6, 4, 7, 1]\n",
      "curr -  4 within nested loop [2, 5, 6, 6, 7, 1]\n",
      "curr -  4 within nested loop [2, 5, 5, 6, 7, 1]\n",
      "--------\n",
      "[2, 4, 5, 6, 7, 1]\n",
      "--------\n",
      "[2, 4, 5, 6, 7, 1]\n",
      "curr -  1 within nested loop [2, 4, 5, 6, 7, 7]\n",
      "curr -  1 within nested loop [2, 4, 5, 6, 6, 7]\n",
      "curr -  1 within nested loop [2, 4, 5, 5, 6, 7]\n",
      "curr -  1 within nested loop [2, 4, 4, 5, 6, 7]\n",
      "curr -  1 within nested loop [2, 2, 4, 5, 6, 7]\n",
      "--------\n",
      "[1, 2, 4, 5, 6, 7]\n"
     ]
    },
    {
     "data": {
      "text/plain": [
       "[1, 2, 4, 5, 6, 7]"
      ]
     },
     "execution_count": 2,
     "metadata": {},
     "output_type": "execute_result"
    }
   ],
   "source": [
    "insert_sort([6, 2, 5, 4, 7, 1])"
   ]
  },
  {
   "cell_type": "code",
   "execution_count": 18,
   "metadata": {},
   "outputs": [
    {
     "data": {
      "text/plain": [
       "[1, 2, 3, 9]"
      ]
     },
     "execution_count": 18,
     "metadata": {},
     "output_type": "execute_result"
    }
   ],
   "source": [
    "A = [1,20,312,9]\n",
    "fdigit = [int(list(str(x))[0]) for x in A]\n",
    "fdigit"
   ]
  },
  {
   "cell_type": "markdown",
   "metadata": {},
   "source": [
    "## Merge Sort"
   ]
  },
  {
   "cell_type": "code",
   "execution_count": null,
   "metadata": {},
   "outputs": [],
   "source": []
  },
  {
   "cell_type": "markdown",
   "metadata": {},
   "source": [
    "## Count Sort\n",
    "**O(n) always**\n",
    " - Does Hashing to record positions of the array elements\n",
    " - It is not a comparison based sorting. It running time complexity is **O(n)** with space proportional to the range of data.\n",
    " \n",
    "### Pseudocode\n",
    "- Initialize an array of length max(given array)+1 - used to store the count of the array\n",
    "- Store the count of each element at their respective index\n",
    "- Store Cumulative sum in the same array\n",
    "- Value of array respective to the count array's count - 1 is the position in the sorted array"
   ]
  },
  {
   "cell_type": "code",
   "execution_count": 5,
   "metadata": {},
   "outputs": [],
   "source": [
    "def countsort(a):\n",
    "    count = [0]*(max(a)+1)\n",
    "    sort_a = [0]*len(a)\n",
    "    for i in range(len(a)):\n",
    "        count[a[i]]+=1\n",
    "    \n",
    "    for i in range(1,len(count)):\n",
    "        count[i]+=count[i-1]\n",
    "    \n",
    "    i = len(a)-1\n",
    "    while i>=0:\n",
    "        print('count - ',count)\n",
    "        sort_a[count[a[i]]-1] = a[i]\n",
    "        print('semi sorted - ',sort_a)\n",
    "        count[a[i]] +=-1\n",
    "        i+=-1\n",
    "    \n",
    "    return sort_a"
   ]
  },
  {
   "cell_type": "code",
   "execution_count": 6,
   "metadata": {},
   "outputs": [
    {
     "name": "stdout",
     "output_type": "stream",
     "text": [
      "count -  [0, 1, 2, 3, 4]\n",
      "semi sorted -  [0, 2, 0, 0]\n",
      "count -  [0, 1, 1, 3, 4]\n",
      "semi sorted -  [0, 2, 3, 0]\n",
      "count -  [0, 1, 1, 2, 4]\n",
      "semi sorted -  [0, 2, 3, 4]\n",
      "count -  [0, 1, 1, 2, 3]\n",
      "semi sorted -  [1, 2, 3, 4]\n"
     ]
    },
    {
     "data": {
      "text/plain": [
       "[1, 2, 3, 4]"
      ]
     },
     "execution_count": 6,
     "metadata": {},
     "output_type": "execute_result"
    }
   ],
   "source": [
    "countsort([1,4,3,2])"
   ]
  },
  {
   "cell_type": "markdown",
   "metadata": {},
   "source": [
    "## Largest Number Arrangement - Comparator Sorting Key\n",
    "Given a list of non negative integers, arrange them such that they form the largest number."
   ]
  },
  {
   "cell_type": "code",
   "execution_count": 19,
   "metadata": {},
   "outputs": [],
   "source": [
    "from functools import cmp_to_key\n",
    "def largestNumber(nums):\n",
    "    if not nums:\n",
    "        return 0\n",
    "\n",
    "    def compare(n1, n2):\n",
    "        print('n1+n2:',int(n1+n2))\n",
    "        print('n2+n1:',int(n2+n1))\n",
    "        print('-----')\n",
    "        if int(n1+n2)>int(n2+n1):\n",
    "            return -1\n",
    "        else:\n",
    "            return 1\n",
    "\n",
    "    nums = list(map(str, nums))\n",
    "    nums.sort(key=cmp_to_key(compare))\n",
    "    return str(int(''.join(nums)))"
   ]
  },
  {
   "cell_type": "code",
   "execution_count": 20,
   "metadata": {},
   "outputs": [
    {
     "name": "stdout",
     "output_type": "stream",
     "text": [
      "n1+n2: 121\n",
      "n2+n1: 112\n",
      "-----\n",
      "n1+n2: 5412\n",
      "n2+n1: 1254\n",
      "-----\n",
      "n1+n2: 6754\n",
      "n2+n1: 5467\n",
      "-----\n"
     ]
    },
    {
     "data": {
      "text/plain": [
       "'6754121'"
      ]
     },
     "execution_count": 20,
     "metadata": {},
     "output_type": "execute_result"
    }
   ],
   "source": [
    "largestNumber([])"
   ]
  },
  {
   "cell_type": "markdown",
   "metadata": {},
   "source": [
    "## Uber Interview Test - DP"
   ]
  },
  {
   "cell_type": "markdown",
   "metadata": {},
   "source": [
    "You are given two list of integers a and b of same length n. Find the count of strictly increasing sequences of integers I[0] < I[1] < ... < I[n-1] such that min(a[i], b[i]) <= I[i] <= max(a[i], b[i]) for each i.\n",
    "\n",
    "For e.g. for test case #1\n",
    "\n",
    "a = [6, 3, 4, 4]\n",
    "\n",
    "b = [1, 5, 1, 6]\n",
    "\n",
    "four possible solutions are possible\n",
    "1, 3, 4, 5\n",
    "1, 3, 4, 6\n",
    "2, 3, 4, 5\n",
    "2, 3, 4, 6\n",
    "Return the answer modulo 998244353.\n",
    "\n",
    "Input:\n",
    "a: [6, 3, 4, 4]\n",
    "\n",
    "b: [1, 5, 1, 6]\n",
    "\n",
    "Expected Output:\n",
    "4"
   ]
  },
  {
   "cell_type": "code",
   "execution_count": null,
   "metadata": {},
   "outputs": [],
   "source": []
  }
 ],
 "metadata": {
  "kernelspec": {
   "display_name": "Python 3",
   "language": "python",
   "name": "python3"
  },
  "language_info": {
   "codemirror_mode": {
    "name": "ipython",
    "version": 3
   },
   "file_extension": ".py",
   "mimetype": "text/x-python",
   "name": "python",
   "nbconvert_exporter": "python",
   "pygments_lexer": "ipython3",
   "version": "3.7.2"
  }
 },
 "nbformat": 4,
 "nbformat_minor": 2
}
